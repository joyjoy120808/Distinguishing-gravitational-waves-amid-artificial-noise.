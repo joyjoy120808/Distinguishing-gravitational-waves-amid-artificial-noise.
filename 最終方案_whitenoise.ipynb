{
  "cells": [
    {
      "cell_type": "markdown",
      "metadata": {
        "id": "view-in-github",
        "colab_type": "text"
      },
      "source": [
        "<a href=\"https://colab.research.google.com/github/joyjoy120808/Distinguishing-gravitational-waves-amid-artificial-noise./blob/main/%E6%9C%80%E7%B5%82%E6%96%B9%E6%A1%88_whitenoise.ipynb\" target=\"_parent\"><img src=\"https://colab.research.google.com/assets/colab-badge.svg\" alt=\"Open In Colab\"/></a>"
      ]
    },
    {
      "cell_type": "code",
      "execution_count": 3,
      "metadata": {
        "id": "scfJL8Zw-CXR",
        "colab": {
          "base_uri": "https://localhost:8080/"
        },
        "outputId": "0a3c92d9-a65f-4a90-f7ce-50a347b09917"
      },
      "outputs": [
        {
          "output_type": "stream",
          "name": "stdout",
          "text": [
            "  Installing build dependencies ... \u001b[?25l\u001b[?25hdone\n",
            "  Getting requirements to build wheel ... \u001b[?25l\u001b[?25hdone\n",
            "  Preparing metadata (pyproject.toml) ... \u001b[?25l\u001b[?25hdone\n",
            "\u001b[2K     \u001b[90m━━━━━━━━━━━━━━━━━━━━━━━━━━━━━━━━━━━━━━━━\u001b[0m \u001b[32m2.3/2.3 MB\u001b[0m \u001b[31m24.8 MB/s\u001b[0m eta \u001b[36m0:00:00\u001b[0m\n",
            "\u001b[?25h  Preparing metadata (setup.py) ... \u001b[?25l\u001b[?25hdone\n",
            "\u001b[2K     \u001b[90m━━━━━━━━━━━━━━━━━━━━━━━━━━━━━━━━━━━━━━━━\u001b[0m \u001b[32m51.0/51.0 kB\u001b[0m \u001b[31m6.5 MB/s\u001b[0m eta \u001b[36m0:00:00\u001b[0m\n",
            "\u001b[?25h  Preparing metadata (setup.py) ... \u001b[?25l\u001b[?25hdone\n",
            "\u001b[2K     \u001b[90m━━━━━━━━━━━━━━━━━━━━━━━━━━━━━━━━━━━━━━━━\u001b[0m \u001b[32m43.1/43.1 MB\u001b[0m \u001b[31m16.1 MB/s\u001b[0m eta \u001b[36m0:00:00\u001b[0m\n",
            "\u001b[2K     \u001b[90m━━━━━━━━━━━━━━━━━━━━━━━━━━━━━━━━━━━━━━━━\u001b[0m \u001b[32m46.5/46.5 kB\u001b[0m \u001b[31m5.4 MB/s\u001b[0m eta \u001b[36m0:00:00\u001b[0m\n",
            "\u001b[2K     \u001b[90m━━━━━━━━━━━━━━━━━━━━━━━━━━━━━━━━━━━━━━━━\u001b[0m \u001b[32m48.1/48.1 MB\u001b[0m \u001b[31m12.3 MB/s\u001b[0m eta \u001b[36m0:00:00\u001b[0m\n",
            "\u001b[2K     \u001b[90m━━━━━━━━━━━━━━━━━━━━━━━━━━━━━━━━━━━━━━━━\u001b[0m \u001b[32m47.1/47.1 kB\u001b[0m \u001b[31m5.5 MB/s\u001b[0m eta \u001b[36m0:00:00\u001b[0m\n",
            "\u001b[?25h  Installing build dependencies ... \u001b[?25l\u001b[?25hdone\n",
            "  Getting requirements to build wheel ... \u001b[?25l\u001b[?25hdone\n",
            "  Preparing metadata (pyproject.toml) ... \u001b[?25l\u001b[?25hdone\n",
            "  Building wheel for pegasus-wms.api (pyproject.toml) ... \u001b[?25l\u001b[?25hdone\n",
            "  Building wheel for python-ligo-lw (setup.py) ... \u001b[?25l\u001b[?25hdone\n",
            "  Building wheel for ligo-segments (setup.py) ... \u001b[?25l\u001b[?25hdone\n",
            "  Building wheel for pegasus-wms.common (pyproject.toml) ... \u001b[?25l\u001b[?25hdone\n"
          ]
        }
      ],
      "source": [
        "pip install -q pycbc"
      ]
    },
    {
      "cell_type": "code",
      "execution_count": 4,
      "metadata": {
        "colab": {
          "base_uri": "https://localhost:8080/"
        },
        "id": "756M9sakU2Fv",
        "outputId": "a7ac8d5b-9741-4211-e8aa-993b03f6ddab"
      },
      "outputs": [
        {
          "output_type": "stream",
          "name": "stdout",
          "text": [
            "Mounted at /content/drive\n",
            "/content/drive/MyDrive/Wavedata\n"
          ]
        }
      ],
      "source": [
        "from google.colab import drive\n",
        "drive.mount('/content/drive')\n",
        "%cd /content/drive/MyDrive/Wavedata"
      ]
    },
    {
      "cell_type": "code",
      "execution_count": 5,
      "metadata": {
        "id": "eX2BGMCm4SsA",
        "colab": {
          "base_uri": "https://localhost:8080/"
        },
        "outputId": "ddf80a72-5818-43ad-c49d-5278ad6a2cad"
      },
      "outputs": [
        {
          "output_type": "stream",
          "name": "stderr",
          "text": [
            "/usr/local/lib/python3.10/dist-packages/pycbc/types/array.py:36: UserWarning: Wswiglal-redir-stdio:\n",
            "\n",
            "SWIGLAL standard output/error redirection is enabled in IPython.\n",
            "This may lead to performance penalties. To disable locally, use:\n",
            "\n",
            "with lal.no_swig_redirect_standard_output_error():\n",
            "    ...\n",
            "\n",
            "To disable globally, use:\n",
            "\n",
            "lal.swig_redirect_standard_output_error(False)\n",
            "\n",
            "Note however that this will likely lead to error messages from\n",
            "LAL functions being either misdirected or lost when called from\n",
            "Jupyter notebooks.\n",
            "\n",
            "To suppress this warning, use:\n",
            "\n",
            "import warnings\n",
            "warnings.filterwarnings(\"ignore\", \"Wswiglal-redir-stdio\")\n",
            "import lal\n",
            "\n",
            "  import lal as _lal\n"
          ]
        }
      ],
      "source": [
        "import os\n",
        "from pathlib import Path\n",
        "from tqdm import tqdm\n",
        "import h5py\n",
        "import json\n",
        "\n",
        "import numpy as np\n",
        "from pycbc.waveform import get_td_waveform\n",
        "import matplotlib as mpl\n",
        "import matplotlib.pyplot as plt\n",
        "\n",
        "import torch\n",
        "from torch import nn\n",
        "import torch.nn.functional as F\n",
        "from torch import Tensor\n",
        "from torchsummary import summary\n",
        "from torch.utils.data import Dataset, DataLoader\n",
        "\n",
        "%matplotlib inline"
      ]
    },
    {
      "cell_type": "code",
      "execution_count": 6,
      "metadata": {
        "id": "1i5rGlQL4SsB"
      },
      "outputs": [],
      "source": [
        "TRAIN_TOTAL, VALID_TOTAL, TEST_TOTAL = 10000, 1000, 1000\n",
        "IFOS, KERNEL = 1, 8192\n",
        "\n",
        "DATA_BASE = '/content/drive/MyDrive/Wavedata/Data'\n",
        "OUT_BASE = '/content/drive/MyDrive/Wavedata/Outputs'\n",
        "\n",
        "TRAINING_FILE = f'{DATA_BASE}/training_data.h5'\n",
        "VALIDATION_FILE = f'{DATA_BASE}/validation_data.h5'\n",
        "TESTING_FILE = f'{DATA_BASE}/testing_data.h5'"
      ]
    },
    {
      "cell_type": "code",
      "execution_count": 7,
      "metadata": {
        "id": "x7MKfHgv5XKH"
      },
      "outputs": [],
      "source": [
        "!mkdir -p /content/drive/MyDrive/Wavedata/Data\n",
        "!mkdir -p /content/drive/MyDrive/Wavedata/Outputs"
      ]
    },
    {
      "cell_type": "code",
      "execution_count": 8,
      "metadata": {
        "id": "c3K_3jBU4SsE",
        "colab": {
          "base_uri": "https://localhost:8080/",
          "height": 704
        },
        "outputId": "c7b22e04-06cc-492a-ebe4-e1589e6b1e16"
      },
      "outputs": [
        {
          "output_type": "stream",
          "name": "stderr",
          "text": [
            "100%|██████████| 5000/5000 [27:28<00:00,  3.03it/s]\n"
          ]
        },
        {
          "output_type": "display_data",
          "data": {
            "text/plain": [
              "<Figure size 1000x200 with 2 Axes>"
            ],
            "image/png": "[encoded data removed]"
          },
          "metadata": {}
        },
        {
          "output_type": "stream",
          "name": "stderr",
          "text": [
            "100%|██████████| 500/500 [02:48<00:00,  2.96it/s]\n"
          ]
        },
        {
          "output_type": "display_data",
          "data": {
            "text/plain": [
              "<Figure size 1000x200 with 2 Axes>"
            ],
            "image/png": "[encoded data removed]"
          },
          "metadata": {}
        },
        {
          "output_type": "stream",
          "name": "stderr",
          "text": [
            "100%|██████████| 500/500 [02:47<00:00,  2.99it/s]\n"
          ]
        },
        {
          "output_type": "display_data",
          "data": {
            "text/plain": [
              "<Figure size 1000x200 with 2 Axes>"
            ],
            "image/png": "[encoded data removed]"
          },
          "metadata": {}
        }
      ],
      "source": [
        "data_set_name = ['Training', 'Validation', 'Testing']\n",
        "data_files = [TRAINING_FILE, VALIDATION_FILE, TESTING_FILE]\n",
        "time = np.arange(-1, 1, 1/4096)\n",
        "strains = []\n",
        "targets = []\n",
        "\n",
        "for idx, data_size in enumerate([TRAIN_TOTAL, VALID_TOTAL, TEST_TOTAL]):\n",
        "    if Path(data_files[idx]).exists() == False:\n",
        "\n",
        "        signals = np.zeros([int(data_size), KERNEL])\n",
        "        inputs = 1e-20*0.5*np.random.normal(0, 1, (data_size, 8192))\n",
        "\n",
        "        parameters = {'mass1':[], 'mass2':[], 'distance':[]}\n",
        "        for j in tqdm(range(int(data_size/2))):\n",
        "            m1, m2, distance = np.random.uniform(30, 80, 1), np.random.uniform(30, 80, 1), np.random.uniform(300, 1000, 1)\n",
        "            mass1, mass2 = max(m1, m2), min(m1, m2)\n",
        "            parameters['mass1'].append(mass1[0])\n",
        "            parameters['mass2'].append(mass2[0])\n",
        "            parameters['distance'].append(distance[0])\n",
        "\n",
        "            hp, hc = get_td_waveform(\n",
        "                approximant='IMRPhenomPv2',\n",
        "                mass1=mass1[0],\n",
        "                mass2=mass2[0],\n",
        "                spin1x=0,\n",
        "                spin1y=0,\n",
        "                spin1z=0,\n",
        "                spin2x=0,\n",
        "                spin2y=0,\n",
        "                spin2z=0,\n",
        "                distance=distance,\n",
        "                inclination=0,\n",
        "                coa_phase=0,\n",
        "                f_lower=20,\n",
        "                f_ref=20,\n",
        "                delta_t=1/4096\n",
        "            )\n",
        "            hp_crop = hp.crop(-1 - hp.start_time, hp.end_time - 1)\n",
        "            hp_array = np.array(hp_crop)\n",
        "\n",
        "            signals[j, :] += hp_array\n",
        "\n",
        "        inputs += signals\n",
        "\n",
        "        target = np.r_[\n",
        "            np.repeat(np.array([[1,0]]), int(data_size/2), axis=0),\n",
        "            np.repeat(np.array([[0,1]]), int(data_size/2), axis=0)\n",
        "        ]\n",
        "\n",
        "        strains.append(inputs)\n",
        "        targets.append(target)\n",
        "\n",
        "        #Saving the data\n",
        "        with h5py.File(data_files[idx], 'w') as g1:\n",
        "            g1.create_dataset('Input', data=inputs)\n",
        "            g1.create_dataset('Target', data=target)\n",
        "\n",
        "        with open(f'{DATA_BASE}/{data_set_name[idx]}-parameters.json', 'w') as fp:\n",
        "            json.dump(parameters, fp)\n",
        "\n",
        "        #Plots the data\n",
        "        fig, ax = plt.subplots(nrows=1, ncols=2, figsize = (10, 2), constrained_layout=True)\n",
        "        fig.suptitle(f'{data_set_name[idx]}', fontsize=16)\n",
        "        ax[0].set_title('Noise with injection Label: [1, 0]')\n",
        "        ax[0].plot(time, inputs[0], lw=0.3, label='strain')\n",
        "        ax[0].plot(time, signals[0], lw=0.3, label='injected signal')\n",
        "        ax[0].legend()\n",
        "\n",
        "        ax[1].set_title('Noise without injection Label: [0, 1]')\n",
        "        ax[1].plot(time, inputs[-1], lw=0.3, label='strain')\n",
        "        ax[1].plot(time, signals[-1], lw=0.3, label='injected signal')\n",
        "        ax[1].legend()\n",
        "\n",
        "        plt.show()\n",
        "        plt.close()\n",
        "\n",
        "\n",
        "    else:\n",
        "        with h5py.File(data_files[idx], 'r') as h1:\n",
        "\n",
        "            print(f'Start Loading {data_set_name[idx]} data...')\n",
        "            strains.append(h1['Input'][:])\n",
        "            targets.append(h1['Target'][:])\n",
        "            print(f'{data_set_name[idx]} data Loaded!')"
      ]
    },
    {
      "cell_type": "markdown",
      "metadata": {
        "id": "G_Y-WIZS4SsF"
      },
      "source": [
        "# DataLoader"
      ]
    },
    {
      "cell_type": "code",
      "execution_count": 9,
      "metadata": {
        "id": "r1kKu6Pr4SsF"
      },
      "outputs": [],
      "source": [
        "class MyDataset(Dataset):\n",
        "\n",
        "    def __init__(self, data, target, ifos=1, kernel_size=8192):\n",
        "\n",
        "        self.data = torch.FloatTensor(\n",
        "            1e21*data.reshape([-1, ifos, kernel_size])\n",
        "        )\n",
        "\n",
        "        self.targets = torch.LongTensor(target)\n",
        "\n",
        "    def __len__(self):\n",
        "\n",
        "        return len(self.data)\n",
        "\n",
        "    def __getitem__(self, index):\n",
        "        x = self.data[index]\n",
        "        y = self.targets[index]\n",
        "\n",
        "        return x, y"
      ]
    },
    {
      "cell_type": "code",
      "execution_count": 10,
      "metadata": {
        "id": "V-HsnMm44SsG"
      },
      "outputs": [],
      "source": [
        "# Load Training data into pytorch tensor\n",
        "dataset = MyDataset(strains[0], targets[0])\n",
        "\n",
        "training_data = DataLoader(\n",
        "    dataset,\n",
        "    batch_size=64,\n",
        "    shuffle=True\n",
        ")\n",
        "\n",
        "# Load Validation data into pytorch tensor\n",
        "dataset_v = MyDataset(strains[1], targets[1])\n",
        "validation_data = DataLoader(\n",
        "    dataset_v,\n",
        "    batch_size=32,\n",
        "    shuffle=True\n",
        ")"
      ]
    },
    {
      "cell_type": "markdown",
      "metadata": {
        "id": "aDoAIYGo4SsG"
      },
      "source": [
        "# Warmup"
      ]
    },
    {
      "cell_type": "code",
      "execution_count": 11,
      "metadata": {
        "id": "UvHDwUGZ4SsG",
        "colab": {
          "base_uri": "https://localhost:8080/"
        },
        "outputId": "b67f2892-847a-4f2f-f518-de17f8347ee1"
      },
      "outputs": [
        {
          "output_type": "stream",
          "name": "stdout",
          "text": [
            "torch.Size([128, 2, 4096])\n"
          ]
        }
      ],
      "source": [
        "# Input Tensors\n",
        "\n",
        "BATCH_SIZE, CHANNELS, SHAPE = 128, 2, 4096\n",
        "input = torch.randn(BATCH_SIZE, CHANNELS, SHAPE)\n",
        "print(input.shape)"
      ]
    },
    {
      "cell_type": "code",
      "execution_count": 12,
      "metadata": {
        "id": "vwTlVNqp4SsH",
        "colab": {
          "base_uri": "https://localhost:8080/"
        },
        "outputId": "04a8f80a-320b-4f57-8ee1-f9530bd24d7a"
      },
      "outputs": [
        {
          "output_type": "stream",
          "name": "stdout",
          "text": [
            "torch.Size([128, 2, 20])\n",
            "torch.Size([128, 20, 2045])\n",
            "torch.Size([128, 2, 5])\n"
          ]
        }
      ],
      "source": [
        "\n",
        "# Linear\n",
        "linear = nn.Linear(\n",
        "    in_features=SHAPE,\n",
        "    out_features=20)\n",
        "\n",
        "# Conv\n",
        "conv = nn.Conv1d(\n",
        "    in_channels=CHANNELS,\n",
        "    out_channels=20,\n",
        "    kernel_size=8,\n",
        "    stride=2\n",
        ")\n",
        "\n",
        "# AdaptiveAvgPool1d\n",
        "\n",
        "pooling = nn.AdaptiveAvgPool1d(output_size=5)\n",
        "\n",
        "# Get some outputs\n",
        "linear_output = linear(input)\n",
        "conv_output = conv(input)\n",
        "pooling_output = pooling(input)\n",
        "\n",
        "print(linear_output.shape)\n",
        "print(conv_output.shape)\n",
        "print(pooling_output.shape)"
      ]
    },
    {
      "cell_type": "markdown",
      "metadata": {
        "id": "_0Uz0Y2G4SsH"
      },
      "source": [
        "# Build a Model"
      ]
    },
    {
      "cell_type": "code",
      "execution_count": 43,
      "metadata": {
        "id": "wn_WTgew4SsI"
      },
      "outputs": [],
      "source": [
        "class MyModel(nn.Module):\n",
        "\n",
        "    def __init__(self,num_ifos: int,):\n",
        "\n",
        "        super(MyModel, self).__init__()\n",
        "\n",
        "        self.conv1 = nn.Conv1d(\n",
        "            in_channels=num_ifos,\n",
        "            out_channels=10,\n",
        "            kernel_size=5,\n",
        "            stride=2,\n",
        "            padding=2)\n",
        "\n",
        "        self.norm1 = nn.BatchNorm1d(num_ifos)\n",
        "        self.norm2 = nn.BatchNorm1d(10)\n",
        "        self.conv2 = nn.Conv1d(10, 20, kernel_size=7, stride=2, padding=2)\n",
        "        self.norm3 = nn.BatchNorm1d(20)\n",
        "        self.conv3 = nn.Conv1d(20, 10, kernel_size=5, stride=2, padding=2)\n",
        "        self.norm4 = nn.BatchNorm1d(10)\n",
        "        self.conv4 = nn.Conv1d(10, 5, kernel_size=5, stride=2, padding=2)\n",
        "        self.conv1_drop = nn.Dropout1d()\n",
        "        self.fc1 = nn.Linear(160, 64)\n",
        "        self.fc2 = nn.Linear(64, 32)\n",
        "        self.fc3 = nn.Linear(32, 2)\n",
        "\n",
        "    def forward(self, x):\n",
        "        x = self.norm1(x)\n",
        "        x = F.mish(F.max_pool1d(self.conv1_drop(self.conv1(x)), 2))\n",
        "        x = self.norm2(x)\n",
        "        x = F.mish(F.max_pool1d(self.conv1_drop(self.conv2(x)), 2))\n",
        "        x = self.norm3(x)\n",
        "        x = F.mish(F.max_pool1d(self.conv1_drop(self.conv3(x)), 2))\n",
        "        x = self.norm4(x)\n",
        "        x = F.mish(F.max_pool1d(self.conv1_drop(self.conv4(x)), 2))\n",
        "        x = torch.flatten(x, 1)\n",
        "        x = F.mish(self.fc1(x))\n",
        "        x = F.mish(self.fc2(x))\n",
        "        x = F.softmax(self.fc3(x), dim = 1)\n",
        "\n",
        "        return x"
      ]
    },
    {
      "cell_type": "code",
      "execution_count": 44,
      "metadata": {
        "id": "tVGP9OBQ4SsI",
        "colab": {
          "base_uri": "https://localhost:8080/"
        },
        "outputId": "de074758-c1b3-4172-d3d9-93fe9c91ac54"
      },
      "outputs": [
        {
          "output_type": "stream",
          "name": "stdout",
          "text": [
            "----------------------------------------------------------------\n",
            "        Layer (type)               Output Shape         Param #\n",
            "================================================================\n",
            "       BatchNorm1d-1             [128, 1, 8192]               2\n",
            "            Conv1d-2            [128, 10, 4096]              60\n",
            "         Dropout1d-3            [128, 10, 4096]               0\n",
            "       BatchNorm1d-4            [128, 10, 2048]              20\n",
            "            Conv1d-5            [128, 20, 1023]           1,420\n",
            "         Dropout1d-6            [128, 20, 1023]               0\n",
            "       BatchNorm1d-7             [128, 20, 511]              40\n",
            "            Conv1d-8             [128, 10, 256]           1,010\n",
            "         Dropout1d-9             [128, 10, 256]               0\n",
            "      BatchNorm1d-10             [128, 10, 128]              20\n",
            "           Conv1d-11               [128, 5, 64]             255\n",
            "        Dropout1d-12               [128, 5, 64]               0\n",
            "           Linear-13                  [128, 64]          10,304\n",
            "           Linear-14                  [128, 32]           2,080\n",
            "           Linear-15                   [128, 2]              66\n",
            "================================================================\n",
            "Total params: 15,277\n",
            "Trainable params: 15,277\n",
            "Non-trainable params: 0\n",
            "----------------------------------------------------------------\n",
            "Input size (MB): 4.00\n",
            "Forward/backward pass size (MB): 164.91\n",
            "Params size (MB): 0.06\n",
            "Estimated Total Size (MB): 168.97\n",
            "----------------------------------------------------------------\n"
          ]
        }
      ],
      "source": [
        "Kate_Moss = MyModel(num_ifos=IFOS)\n",
        "summary(Kate_Moss, (IFOS, KERNEL), 128, 'cpu')"
      ]
    },
    {
      "cell_type": "markdown",
      "metadata": {
        "id": "UrPBzNBC4SsI"
      },
      "source": [
        "# Training"
      ]
    },
    {
      "cell_type": "code",
      "execution_count": 46,
      "metadata": {
        "id": "nKCGDShj4SsI",
        "colab": {
          "base_uri": "https://localhost:8080/"
        },
        "outputId": "0a69d9ee-bcb9-429a-e1dd-b6b654dab7e0"
      },
      "outputs": [
        {
          "output_type": "stream",
          "name": "stderr",
          "text": [
            "Epoch 1: 100%|██████████| 157/157 [00:01<00:00, 129.23it/s]\n"
          ]
        },
        {
          "output_type": "stream",
          "name": "stdout",
          "text": [
            "========\n",
            "Cost0.69\n",
            "======== \n",
            "\n",
            "===================\n",
            "Validation Cost0.69\n",
            "=================== \n",
            "\n"
          ]
        },
        {
          "output_type": "stream",
          "name": "stderr",
          "text": [
            "Epoch 2: 100%|██████████| 157/157 [00:01<00:00, 146.97it/s]\n"
          ]
        },
        {
          "output_type": "stream",
          "name": "stdout",
          "text": [
            "========\n",
            "Cost0.69\n",
            "======== \n",
            "\n",
            "===================\n",
            "Validation Cost0.69\n",
            "=================== \n",
            "\n"
          ]
        },
        {
          "output_type": "stream",
          "name": "stderr",
          "text": [
            "Epoch 3: 100%|██████████| 157/157 [00:01<00:00, 127.39it/s]\n"
          ]
        },
        {
          "output_type": "stream",
          "name": "stdout",
          "text": [
            "========\n",
            "Cost0.69\n",
            "======== \n",
            "\n",
            "===================\n",
            "Validation Cost0.69\n",
            "=================== \n",
            "\n"
          ]
        },
        {
          "output_type": "stream",
          "name": "stderr",
          "text": [
            "Epoch 4: 100%|██████████| 157/157 [00:01<00:00, 117.53it/s]\n"
          ]
        },
        {
          "output_type": "stream",
          "name": "stdout",
          "text": [
            "========\n",
            "Cost0.69\n",
            "======== \n",
            "\n",
            "===================\n",
            "Validation Cost0.69\n",
            "=================== \n",
            "\n"
          ]
        },
        {
          "output_type": "stream",
          "name": "stderr",
          "text": [
            "Epoch 5: 100%|██████████| 157/157 [00:01<00:00, 98.75it/s]\n"
          ]
        },
        {
          "output_type": "stream",
          "name": "stdout",
          "text": [
            "========\n",
            "Cost0.69\n",
            "======== \n",
            "\n",
            "===================\n",
            "Validation Cost0.69\n",
            "=================== \n",
            "\n"
          ]
        },
        {
          "output_type": "stream",
          "name": "stderr",
          "text": [
            "Epoch 6: 100%|██████████| 157/157 [00:01<00:00, 126.07it/s]\n"
          ]
        },
        {
          "output_type": "stream",
          "name": "stdout",
          "text": [
            "========\n",
            "Cost0.69\n",
            "======== \n",
            "\n",
            "===================\n",
            "Validation Cost0.69\n",
            "=================== \n",
            "\n"
          ]
        },
        {
          "output_type": "stream",
          "name": "stderr",
          "text": [
            "Epoch 7: 100%|██████████| 157/157 [00:01<00:00, 125.78it/s]\n"
          ]
        },
        {
          "output_type": "stream",
          "name": "stdout",
          "text": [
            "========\n",
            "Cost0.69\n",
            "======== \n",
            "\n",
            "===================\n",
            "Validation Cost0.69\n",
            "=================== \n",
            "\n"
          ]
        },
        {
          "output_type": "stream",
          "name": "stderr",
          "text": [
            "Epoch 8: 100%|██████████| 157/157 [00:01<00:00, 127.84it/s]\n"
          ]
        },
        {
          "output_type": "stream",
          "name": "stdout",
          "text": [
            "========\n",
            "Cost0.65\n",
            "======== \n",
            "\n",
            "===================\n",
            "Validation Cost0.61\n",
            "=================== \n",
            "\n"
          ]
        },
        {
          "output_type": "stream",
          "name": "stderr",
          "text": [
            "Epoch 9: 100%|██████████| 157/157 [00:01<00:00, 127.85it/s]\n"
          ]
        },
        {
          "output_type": "stream",
          "name": "stdout",
          "text": [
            "========\n",
            "Cost0.59\n",
            "======== \n",
            "\n",
            "===================\n",
            "Validation Cost0.59\n",
            "=================== \n",
            "\n"
          ]
        },
        {
          "output_type": "stream",
          "name": "stderr",
          "text": [
            "Epoch 10: 100%|██████████| 157/157 [00:01<00:00, 125.37it/s]\n"
          ]
        },
        {
          "output_type": "stream",
          "name": "stdout",
          "text": [
            "========\n",
            "Cost0.57\n",
            "======== \n",
            "\n",
            "===================\n",
            "Validation Cost0.56\n",
            "=================== \n",
            "\n"
          ]
        },
        {
          "output_type": "stream",
          "name": "stderr",
          "text": [
            "Epoch 11: 100%|██████████| 157/157 [00:01<00:00, 125.18it/s]\n"
          ]
        },
        {
          "output_type": "stream",
          "name": "stdout",
          "text": [
            "========\n",
            "Cost0.55\n",
            "======== \n",
            "\n",
            "===================\n",
            "Validation Cost0.54\n",
            "=================== \n",
            "\n"
          ]
        },
        {
          "output_type": "stream",
          "name": "stderr",
          "text": [
            "Epoch 12: 100%|██████████| 157/157 [00:01<00:00, 125.71it/s]\n"
          ]
        },
        {
          "output_type": "stream",
          "name": "stdout",
          "text": [
            "========\n",
            "Cost0.54\n",
            "======== \n",
            "\n",
            "===================\n",
            "Validation Cost0.54\n",
            "=================== \n",
            "\n"
          ]
        },
        {
          "output_type": "stream",
          "name": "stderr",
          "text": [
            "Epoch 13: 100%|██████████| 157/157 [00:01<00:00, 112.27it/s]\n"
          ]
        },
        {
          "output_type": "stream",
          "name": "stdout",
          "text": [
            "========\n",
            "Cost0.54\n",
            "======== \n",
            "\n",
            "===================\n",
            "Validation Cost0.53\n",
            "=================== \n",
            "\n"
          ]
        },
        {
          "output_type": "stream",
          "name": "stderr",
          "text": [
            "Epoch 14: 100%|██████████| 157/157 [00:01<00:00, 105.41it/s]\n"
          ]
        },
        {
          "output_type": "stream",
          "name": "stdout",
          "text": [
            "========\n",
            "Cost0.53\n",
            "======== \n",
            "\n",
            "===================\n",
            "Validation Cost0.53\n",
            "=================== \n",
            "\n"
          ]
        },
        {
          "output_type": "stream",
          "name": "stderr",
          "text": [
            "Epoch 15: 100%|██████████| 157/157 [00:01<00:00, 99.59it/s] \n"
          ]
        },
        {
          "output_type": "stream",
          "name": "stdout",
          "text": [
            "========\n",
            "Cost0.53\n",
            "======== \n",
            "\n",
            "===================\n",
            "Validation Cost0.53\n",
            "=================== \n",
            "\n"
          ]
        },
        {
          "output_type": "stream",
          "name": "stderr",
          "text": [
            "Epoch 16: 100%|██████████| 157/157 [00:01<00:00, 129.35it/s]\n"
          ]
        },
        {
          "output_type": "stream",
          "name": "stdout",
          "text": [
            "========\n",
            "Cost0.53\n",
            "======== \n",
            "\n",
            "===================\n",
            "Validation Cost0.53\n",
            "=================== \n",
            "\n"
          ]
        },
        {
          "output_type": "stream",
          "name": "stderr",
          "text": [
            "Epoch 17: 100%|██████████| 157/157 [00:01<00:00, 143.91it/s]\n"
          ]
        },
        {
          "output_type": "stream",
          "name": "stdout",
          "text": [
            "========\n",
            "Cost0.52\n",
            "======== \n",
            "\n",
            "===================\n",
            "Validation Cost0.52\n",
            "=================== \n",
            "\n"
          ]
        },
        {
          "output_type": "stream",
          "name": "stderr",
          "text": [
            "Epoch 18: 100%|██████████| 157/157 [00:01<00:00, 125.93it/s]\n"
          ]
        },
        {
          "output_type": "stream",
          "name": "stdout",
          "text": [
            "========\n",
            "Cost0.53\n",
            "======== \n",
            "\n",
            "===================\n",
            "Validation Cost0.53\n",
            "=================== \n",
            "\n"
          ]
        },
        {
          "output_type": "stream",
          "name": "stderr",
          "text": [
            "Epoch 19: 100%|██████████| 157/157 [00:01<00:00, 125.92it/s]\n"
          ]
        },
        {
          "output_type": "stream",
          "name": "stdout",
          "text": [
            "========\n",
            "Cost0.52\n",
            "======== \n",
            "\n",
            "===================\n",
            "Validation Cost0.52\n",
            "=================== \n",
            "\n"
          ]
        },
        {
          "output_type": "stream",
          "name": "stderr",
          "text": [
            "Epoch 20: 100%|██████████| 157/157 [00:01<00:00, 127.29it/s]\n"
          ]
        },
        {
          "output_type": "stream",
          "name": "stdout",
          "text": [
            "========\n",
            "Cost0.52\n",
            "======== \n",
            "\n",
            "===================\n",
            "Validation Cost0.53\n",
            "=================== \n",
            "\n"
          ]
        },
        {
          "output_type": "stream",
          "name": "stderr",
          "text": [
            "Epoch 21: 100%|██████████| 157/157 [00:01<00:00, 127.34it/s]\n"
          ]
        },
        {
          "output_type": "stream",
          "name": "stdout",
          "text": [
            "========\n",
            "Cost0.52\n",
            "======== \n",
            "\n",
            "===================\n",
            "Validation Cost0.52\n",
            "=================== \n",
            "\n"
          ]
        },
        {
          "output_type": "stream",
          "name": "stderr",
          "text": [
            "Epoch 22: 100%|██████████| 157/157 [00:01<00:00, 129.37it/s]\n"
          ]
        },
        {
          "output_type": "stream",
          "name": "stdout",
          "text": [
            "========\n",
            "Cost0.52\n",
            "======== \n",
            "\n",
            "===================\n",
            "Validation Cost0.52\n",
            "=================== \n",
            "\n"
          ]
        },
        {
          "output_type": "stream",
          "name": "stderr",
          "text": [
            "Epoch 23: 100%|██████████| 157/157 [00:01<00:00, 109.62it/s]\n"
          ]
        },
        {
          "output_type": "stream",
          "name": "stdout",
          "text": [
            "========\n",
            "Cost0.52\n",
            "======== \n",
            "\n",
            "===================\n",
            "Validation Cost0.53\n",
            "=================== \n",
            "\n"
          ]
        },
        {
          "output_type": "stream",
          "name": "stderr",
          "text": [
            "Epoch 24: 100%|██████████| 157/157 [00:01<00:00, 98.22it/s]\n"
          ]
        },
        {
          "output_type": "stream",
          "name": "stdout",
          "text": [
            "========\n",
            "Cost0.52\n",
            "======== \n",
            "\n",
            "===================\n",
            "Validation Cost0.52\n",
            "=================== \n",
            "\n"
          ]
        },
        {
          "output_type": "stream",
          "name": "stderr",
          "text": [
            "Epoch 25: 100%|██████████| 157/157 [00:01<00:00, 95.85it/s] \n"
          ]
        },
        {
          "output_type": "stream",
          "name": "stdout",
          "text": [
            "========\n",
            "Cost0.51\n",
            "======== \n",
            "\n",
            "===================\n",
            "Validation Cost0.51\n",
            "=================== \n",
            "\n"
          ]
        },
        {
          "output_type": "stream",
          "name": "stderr",
          "text": [
            "Epoch 26: 100%|██████████| 157/157 [00:01<00:00, 126.86it/s]\n"
          ]
        },
        {
          "output_type": "stream",
          "name": "stdout",
          "text": [
            "========\n",
            "Cost0.52\n",
            "======== \n",
            "\n",
            "===================\n",
            "Validation Cost0.52\n",
            "=================== \n",
            "\n"
          ]
        },
        {
          "output_type": "stream",
          "name": "stderr",
          "text": [
            "Epoch 27: 100%|██████████| 157/157 [00:01<00:00, 127.24it/s]\n"
          ]
        },
        {
          "output_type": "stream",
          "name": "stdout",
          "text": [
            "========\n",
            "Cost0.51\n",
            "======== \n",
            "\n",
            "===================\n",
            "Validation Cost0.53\n",
            "=================== \n",
            "\n"
          ]
        },
        {
          "output_type": "stream",
          "name": "stderr",
          "text": [
            "Epoch 28: 100%|██████████| 157/157 [00:01<00:00, 127.66it/s]\n"
          ]
        },
        {
          "output_type": "stream",
          "name": "stdout",
          "text": [
            "========\n",
            "Cost0.51\n",
            "======== \n",
            "\n",
            "===================\n",
            "Validation Cost0.53\n",
            "=================== \n",
            "\n"
          ]
        },
        {
          "output_type": "stream",
          "name": "stderr",
          "text": [
            "Epoch 29: 100%|██████████| 157/157 [00:01<00:00, 127.96it/s]\n"
          ]
        },
        {
          "output_type": "stream",
          "name": "stdout",
          "text": [
            "========\n",
            "Cost0.51\n",
            "======== \n",
            "\n",
            "===================\n",
            "Validation Cost0.51\n",
            "=================== \n",
            "\n"
          ]
        },
        {
          "output_type": "stream",
          "name": "stderr",
          "text": [
            "Epoch 30: 100%|██████████| 157/157 [00:01<00:00, 125.21it/s]\n"
          ]
        },
        {
          "output_type": "stream",
          "name": "stdout",
          "text": [
            "========\n",
            "Cost0.51\n",
            "======== \n",
            "\n",
            "===================\n",
            "Validation Cost0.52\n",
            "=================== \n",
            "\n"
          ]
        },
        {
          "output_type": "stream",
          "name": "stderr",
          "text": [
            "Epoch 31: 100%|██████████| 157/157 [00:01<00:00, 128.59it/s]\n"
          ]
        },
        {
          "output_type": "stream",
          "name": "stdout",
          "text": [
            "========\n",
            "Cost0.51\n",
            "======== \n",
            "\n",
            "===================\n",
            "Validation Cost0.51\n",
            "=================== \n",
            "\n"
          ]
        },
        {
          "output_type": "stream",
          "name": "stderr",
          "text": [
            "Epoch 32: 100%|██████████| 157/157 [00:01<00:00, 127.98it/s]\n"
          ]
        },
        {
          "output_type": "stream",
          "name": "stdout",
          "text": [
            "========\n",
            "Cost0.51\n",
            "======== \n",
            "\n",
            "===================\n",
            "Validation Cost0.52\n",
            "=================== \n",
            "\n"
          ]
        },
        {
          "output_type": "stream",
          "name": "stderr",
          "text": [
            "Epoch 33: 100%|██████████| 157/157 [00:01<00:00, 109.52it/s]\n"
          ]
        },
        {
          "output_type": "stream",
          "name": "stdout",
          "text": [
            "========\n",
            "Cost0.51\n",
            "======== \n",
            "\n",
            "===================\n",
            "Validation Cost0.52\n",
            "=================== \n",
            "\n"
          ]
        },
        {
          "output_type": "stream",
          "name": "stderr",
          "text": [
            "Epoch 34: 100%|██████████| 157/157 [00:01<00:00, 104.84it/s]\n"
          ]
        },
        {
          "output_type": "stream",
          "name": "stdout",
          "text": [
            "========\n",
            "Cost0.51\n",
            "======== \n",
            "\n",
            "===================\n",
            "Validation Cost0.52\n",
            "=================== \n",
            "\n"
          ]
        },
        {
          "output_type": "stream",
          "name": "stderr",
          "text": [
            "Epoch 35: 100%|██████████| 157/157 [00:01<00:00, 103.12it/s]\n"
          ]
        },
        {
          "output_type": "stream",
          "name": "stdout",
          "text": [
            "========\n",
            "Cost0.51\n",
            "======== \n",
            "\n",
            "===================\n",
            "Validation Cost0.51\n",
            "=================== \n",
            "\n"
          ]
        },
        {
          "output_type": "stream",
          "name": "stderr",
          "text": [
            "Epoch 36: 100%|██████████| 157/157 [00:01<00:00, 127.31it/s]\n"
          ]
        },
        {
          "output_type": "stream",
          "name": "stdout",
          "text": [
            "========\n",
            "Cost0.51\n",
            "======== \n",
            "\n",
            "===================\n",
            "Validation Cost0.51\n",
            "=================== \n",
            "\n"
          ]
        },
        {
          "output_type": "stream",
          "name": "stderr",
          "text": [
            "Epoch 37: 100%|██████████| 157/157 [00:01<00:00, 130.35it/s]\n"
          ]
        },
        {
          "output_type": "stream",
          "name": "stdout",
          "text": [
            "========\n",
            "Cost0.51\n",
            "======== \n",
            "\n",
            "===================\n",
            "Validation Cost0.53\n",
            "=================== \n",
            "\n"
          ]
        },
        {
          "output_type": "stream",
          "name": "stderr",
          "text": [
            "Epoch 38: 100%|██████████| 157/157 [00:01<00:00, 126.22it/s]\n"
          ]
        },
        {
          "output_type": "stream",
          "name": "stdout",
          "text": [
            "========\n",
            "Cost0.51\n",
            "======== \n",
            "\n",
            "===================\n",
            "Validation Cost0.53\n",
            "=================== \n",
            "\n"
          ]
        },
        {
          "output_type": "stream",
          "name": "stderr",
          "text": [
            "Epoch 39: 100%|██████████| 157/157 [00:01<00:00, 127.97it/s]\n"
          ]
        },
        {
          "output_type": "stream",
          "name": "stdout",
          "text": [
            "========\n",
            "Cost0.51\n",
            "======== \n",
            "\n",
            "===================\n",
            "Validation Cost0.5\n",
            "=================== \n",
            "\n"
          ]
        },
        {
          "output_type": "stream",
          "name": "stderr",
          "text": [
            "Epoch 40: 100%|██████████| 157/157 [00:01<00:00, 126.92it/s]\n"
          ]
        },
        {
          "output_type": "stream",
          "name": "stdout",
          "text": [
            "========\n",
            "Cost0.51\n",
            "======== \n",
            "\n",
            "===================\n",
            "Validation Cost0.52\n",
            "=================== \n",
            "\n"
          ]
        },
        {
          "output_type": "stream",
          "name": "stderr",
          "text": [
            "Epoch 41: 100%|██████████| 157/157 [00:01<00:00, 127.30it/s]\n"
          ]
        },
        {
          "output_type": "stream",
          "name": "stdout",
          "text": [
            "========\n",
            "Cost0.51\n",
            "======== \n",
            "\n",
            "===================\n",
            "Validation Cost0.51\n",
            "=================== \n",
            "\n"
          ]
        },
        {
          "output_type": "stream",
          "name": "stderr",
          "text": [
            "Epoch 42: 100%|██████████| 157/157 [00:01<00:00, 127.46it/s]\n"
          ]
        },
        {
          "output_type": "stream",
          "name": "stdout",
          "text": [
            "========\n",
            "Cost0.51\n",
            "======== \n",
            "\n",
            "===================\n",
            "Validation Cost0.5\n",
            "=================== \n",
            "\n"
          ]
        },
        {
          "output_type": "stream",
          "name": "stderr",
          "text": [
            "Epoch 43: 100%|██████████| 157/157 [00:01<00:00, 107.76it/s]\n"
          ]
        },
        {
          "output_type": "stream",
          "name": "stdout",
          "text": [
            "========\n",
            "Cost0.51\n",
            "======== \n",
            "\n",
            "===================\n",
            "Validation Cost0.5\n",
            "=================== \n",
            "\n"
          ]
        },
        {
          "output_type": "stream",
          "name": "stderr",
          "text": [
            "Epoch 44: 100%|██████████| 157/157 [00:01<00:00, 98.94it/s]\n"
          ]
        },
        {
          "output_type": "stream",
          "name": "stdout",
          "text": [
            "========\n",
            "Cost0.51\n",
            "======== \n",
            "\n",
            "===================\n",
            "Validation Cost0.52\n",
            "=================== \n",
            "\n"
          ]
        },
        {
          "output_type": "stream",
          "name": "stderr",
          "text": [
            "Epoch 45: 100%|██████████| 157/157 [00:01<00:00, 99.61it/s] \n"
          ]
        },
        {
          "output_type": "stream",
          "name": "stdout",
          "text": [
            "========\n",
            "Cost0.51\n",
            "======== \n",
            "\n",
            "===================\n",
            "Validation Cost0.5\n",
            "=================== \n",
            "\n"
          ]
        },
        {
          "output_type": "stream",
          "name": "stderr",
          "text": [
            "Epoch 46: 100%|██████████| 157/157 [00:01<00:00, 123.57it/s]\n"
          ]
        },
        {
          "output_type": "stream",
          "name": "stdout",
          "text": [
            "========\n",
            "Cost0.51\n",
            "======== \n",
            "\n",
            "===================\n",
            "Validation Cost0.52\n",
            "=================== \n",
            "\n"
          ]
        },
        {
          "output_type": "stream",
          "name": "stderr",
          "text": [
            "Epoch 47: 100%|██████████| 157/157 [00:01<00:00, 124.78it/s]\n"
          ]
        },
        {
          "output_type": "stream",
          "name": "stdout",
          "text": [
            "========\n",
            "Cost0.51\n",
            "======== \n",
            "\n",
            "===================\n",
            "Validation Cost0.51\n",
            "=================== \n",
            "\n"
          ]
        },
        {
          "output_type": "stream",
          "name": "stderr",
          "text": [
            "Epoch 48: 100%|██████████| 157/157 [00:01<00:00, 125.93it/s]\n"
          ]
        },
        {
          "output_type": "stream",
          "name": "stdout",
          "text": [
            "========\n",
            "Cost0.51\n",
            "======== \n",
            "\n",
            "===================\n",
            "Validation Cost0.5\n",
            "=================== \n",
            "\n"
          ]
        },
        {
          "output_type": "stream",
          "name": "stderr",
          "text": [
            "Epoch 49: 100%|██████████| 157/157 [00:01<00:00, 128.28it/s]\n"
          ]
        },
        {
          "output_type": "stream",
          "name": "stdout",
          "text": [
            "========\n",
            "Cost0.51\n",
            "======== \n",
            "\n",
            "===================\n",
            "Validation Cost0.51\n",
            "=================== \n",
            "\n"
          ]
        },
        {
          "output_type": "stream",
          "name": "stderr",
          "text": [
            "Epoch 50: 100%|██████████| 157/157 [00:01<00:00, 128.62it/s]\n"
          ]
        },
        {
          "output_type": "stream",
          "name": "stdout",
          "text": [
            "========\n",
            "Cost0.5\n",
            "======== \n",
            "\n",
            "===================\n",
            "Validation Cost0.52\n",
            "=================== \n",
            "\n"
          ]
        },
        {
          "output_type": "stream",
          "name": "stderr",
          "text": [
            "Epoch 51: 100%|██████████| 157/157 [00:01<00:00, 125.19it/s]\n"
          ]
        },
        {
          "output_type": "stream",
          "name": "stdout",
          "text": [
            "========\n",
            "Cost0.51\n",
            "======== \n",
            "\n",
            "===================\n",
            "Validation Cost0.51\n",
            "=================== \n",
            "\n"
          ]
        },
        {
          "output_type": "stream",
          "name": "stderr",
          "text": [
            "Epoch 52: 100%|██████████| 157/157 [00:01<00:00, 125.57it/s]\n"
          ]
        },
        {
          "output_type": "stream",
          "name": "stdout",
          "text": [
            "========\n",
            "Cost0.51\n",
            "======== \n",
            "\n",
            "===================\n",
            "Validation Cost0.51\n",
            "=================== \n",
            "\n"
          ]
        },
        {
          "output_type": "stream",
          "name": "stderr",
          "text": [
            "Epoch 53: 100%|██████████| 157/157 [00:01<00:00, 108.75it/s]\n"
          ]
        },
        {
          "output_type": "stream",
          "name": "stdout",
          "text": [
            "========\n",
            "Cost0.51\n",
            "======== \n",
            "\n",
            "===================\n",
            "Validation Cost0.51\n",
            "=================== \n",
            "\n"
          ]
        },
        {
          "output_type": "stream",
          "name": "stderr",
          "text": [
            "Epoch 54: 100%|██████████| 157/157 [00:01<00:00, 122.72it/s]\n"
          ]
        },
        {
          "output_type": "stream",
          "name": "stdout",
          "text": [
            "========\n",
            "Cost0.51\n",
            "======== \n",
            "\n",
            "===================\n",
            "Validation Cost0.5\n",
            "=================== \n",
            "\n"
          ]
        },
        {
          "output_type": "stream",
          "name": "stderr",
          "text": [
            "Epoch 55: 100%|██████████| 157/157 [00:01<00:00, 108.63it/s]\n"
          ]
        },
        {
          "output_type": "stream",
          "name": "stdout",
          "text": [
            "========\n",
            "Cost0.5\n",
            "======== \n",
            "\n",
            "===================\n",
            "Validation Cost0.5\n",
            "=================== \n",
            "\n"
          ]
        },
        {
          "output_type": "stream",
          "name": "stderr",
          "text": [
            "Epoch 56: 100%|██████████| 157/157 [00:01<00:00, 145.46it/s]\n"
          ]
        },
        {
          "output_type": "stream",
          "name": "stdout",
          "text": [
            "========\n",
            "Cost0.51\n",
            "======== \n",
            "\n",
            "===================\n",
            "Validation Cost0.51\n",
            "=================== \n",
            "\n"
          ]
        },
        {
          "output_type": "stream",
          "name": "stderr",
          "text": [
            "Epoch 57: 100%|██████████| 157/157 [00:01<00:00, 145.65it/s]\n"
          ]
        },
        {
          "output_type": "stream",
          "name": "stdout",
          "text": [
            "========\n",
            "Cost0.51\n",
            "======== \n",
            "\n",
            "===================\n",
            "Validation Cost0.51\n",
            "=================== \n",
            "\n"
          ]
        },
        {
          "output_type": "stream",
          "name": "stderr",
          "text": [
            "Epoch 58: 100%|██████████| 157/157 [00:01<00:00, 148.97it/s]\n"
          ]
        },
        {
          "output_type": "stream",
          "name": "stdout",
          "text": [
            "========\n",
            "Cost0.51\n",
            "======== \n",
            "\n",
            "===================\n",
            "Validation Cost0.5\n",
            "=================== \n",
            "\n"
          ]
        },
        {
          "output_type": "stream",
          "name": "stderr",
          "text": [
            "Epoch 59: 100%|██████████| 157/157 [00:01<00:00, 148.14it/s]\n"
          ]
        },
        {
          "output_type": "stream",
          "name": "stdout",
          "text": [
            "========\n",
            "Cost0.51\n",
            "======== \n",
            "\n",
            "===================\n",
            "Validation Cost0.51\n",
            "=================== \n",
            "\n"
          ]
        },
        {
          "output_type": "stream",
          "name": "stderr",
          "text": [
            "Epoch 60: 100%|██████████| 157/157 [00:01<00:00, 144.99it/s]\n"
          ]
        },
        {
          "output_type": "stream",
          "name": "stdout",
          "text": [
            "========\n",
            "Cost0.51\n",
            "======== \n",
            "\n",
            "===================\n",
            "Validation Cost0.51\n",
            "=================== \n",
            "\n"
          ]
        },
        {
          "output_type": "stream",
          "name": "stderr",
          "text": [
            "Epoch 61: 100%|██████████| 157/157 [00:01<00:00, 145.18it/s]\n"
          ]
        },
        {
          "output_type": "stream",
          "name": "stdout",
          "text": [
            "========\n",
            "Cost0.51\n",
            "======== \n",
            "\n",
            "===================\n",
            "Validation Cost0.5\n",
            "=================== \n",
            "\n"
          ]
        },
        {
          "output_type": "stream",
          "name": "stderr",
          "text": [
            "Epoch 62: 100%|██████████| 157/157 [00:01<00:00, 147.05it/s]\n"
          ]
        },
        {
          "output_type": "stream",
          "name": "stdout",
          "text": [
            "========\n",
            "Cost0.5\n",
            "======== \n",
            "\n",
            "===================\n",
            "Validation Cost0.52\n",
            "=================== \n",
            "\n"
          ]
        },
        {
          "output_type": "stream",
          "name": "stderr",
          "text": [
            "Epoch 63: 100%|██████████| 157/157 [00:01<00:00, 146.92it/s]\n"
          ]
        },
        {
          "output_type": "stream",
          "name": "stdout",
          "text": [
            "========\n",
            "Cost0.5\n",
            "======== \n",
            "\n",
            "===================\n",
            "Validation Cost0.51\n",
            "=================== \n",
            "\n"
          ]
        },
        {
          "output_type": "stream",
          "name": "stderr",
          "text": [
            "Epoch 64: 100%|██████████| 157/157 [00:01<00:00, 127.89it/s]\n"
          ]
        },
        {
          "output_type": "stream",
          "name": "stdout",
          "text": [
            "========\n",
            "Cost0.5\n",
            "======== \n",
            "\n",
            "===================\n",
            "Validation Cost0.5\n",
            "=================== \n",
            "\n"
          ]
        },
        {
          "output_type": "stream",
          "name": "stderr",
          "text": [
            "Epoch 65: 100%|██████████| 157/157 [00:01<00:00, 119.99it/s]\n"
          ]
        },
        {
          "output_type": "stream",
          "name": "stdout",
          "text": [
            "========\n",
            "Cost0.5\n",
            "======== \n",
            "\n",
            "===================\n",
            "Validation Cost0.52\n",
            "=================== \n",
            "\n"
          ]
        },
        {
          "output_type": "stream",
          "name": "stderr",
          "text": [
            "Epoch 66: 100%|██████████| 157/157 [00:01<00:00, 114.23it/s]\n"
          ]
        },
        {
          "output_type": "stream",
          "name": "stdout",
          "text": [
            "========\n",
            "Cost0.51\n",
            "======== \n",
            "\n",
            "===================\n",
            "Validation Cost0.51\n",
            "=================== \n",
            "\n"
          ]
        },
        {
          "output_type": "stream",
          "name": "stderr",
          "text": [
            "Epoch 67: 100%|██████████| 157/157 [00:01<00:00, 148.26it/s]\n"
          ]
        },
        {
          "output_type": "stream",
          "name": "stdout",
          "text": [
            "========\n",
            "Cost0.5\n",
            "======== \n",
            "\n",
            "===================\n",
            "Validation Cost0.51\n",
            "=================== \n",
            "\n"
          ]
        },
        {
          "output_type": "stream",
          "name": "stderr",
          "text": [
            "Epoch 68: 100%|██████████| 157/157 [00:01<00:00, 144.02it/s]\n"
          ]
        },
        {
          "output_type": "stream",
          "name": "stdout",
          "text": [
            "========\n",
            "Cost0.5\n",
            "======== \n",
            "\n",
            "===================\n",
            "Validation Cost0.51\n",
            "=================== \n",
            "\n"
          ]
        },
        {
          "output_type": "stream",
          "name": "stderr",
          "text": [
            "Epoch 69: 100%|██████████| 157/157 [00:01<00:00, 143.48it/s]\n"
          ]
        },
        {
          "output_type": "stream",
          "name": "stdout",
          "text": [
            "========\n",
            "Cost0.5\n",
            "======== \n",
            "\n",
            "===================\n",
            "Validation Cost0.5\n",
            "=================== \n",
            "\n"
          ]
        },
        {
          "output_type": "stream",
          "name": "stderr",
          "text": [
            "Epoch 70: 100%|██████████| 157/157 [00:01<00:00, 141.47it/s]\n"
          ]
        },
        {
          "output_type": "stream",
          "name": "stdout",
          "text": [
            "========\n",
            "Cost0.5\n",
            "======== \n",
            "\n",
            "===================\n",
            "Validation Cost0.51\n",
            "=================== \n",
            "\n"
          ]
        },
        {
          "output_type": "stream",
          "name": "stderr",
          "text": [
            "Epoch 71: 100%|██████████| 157/157 [00:01<00:00, 145.43it/s]\n"
          ]
        },
        {
          "output_type": "stream",
          "name": "stdout",
          "text": [
            "========\n",
            "Cost0.5\n",
            "======== \n",
            "\n",
            "===================\n",
            "Validation Cost0.5\n",
            "=================== \n",
            "\n"
          ]
        },
        {
          "output_type": "stream",
          "name": "stderr",
          "text": [
            "Epoch 72: 100%|██████████| 157/157 [00:01<00:00, 127.76it/s]\n"
          ]
        },
        {
          "output_type": "stream",
          "name": "stdout",
          "text": [
            "========\n",
            "Cost0.5\n",
            "======== \n",
            "\n",
            "===================\n",
            "Validation Cost0.5\n",
            "=================== \n",
            "\n"
          ]
        },
        {
          "output_type": "stream",
          "name": "stderr",
          "text": [
            "Epoch 73: 100%|██████████| 157/157 [00:01<00:00, 124.92it/s]\n"
          ]
        },
        {
          "output_type": "stream",
          "name": "stdout",
          "text": [
            "========\n",
            "Cost0.5\n",
            "======== \n",
            "\n",
            "===================\n",
            "Validation Cost0.51\n",
            "=================== \n",
            "\n"
          ]
        },
        {
          "output_type": "stream",
          "name": "stderr",
          "text": [
            "Epoch 74: 100%|██████████| 157/157 [00:01<00:00, 126.86it/s]\n"
          ]
        },
        {
          "output_type": "stream",
          "name": "stdout",
          "text": [
            "========\n",
            "Cost0.5\n",
            "======== \n",
            "\n",
            "===================\n",
            "Validation Cost0.5\n",
            "=================== \n",
            "\n"
          ]
        },
        {
          "output_type": "stream",
          "name": "stderr",
          "text": [
            "Epoch 75: 100%|██████████| 157/157 [00:01<00:00, 102.81it/s]\n"
          ]
        },
        {
          "output_type": "stream",
          "name": "stdout",
          "text": [
            "========\n",
            "Cost0.5\n",
            "======== \n",
            "\n",
            "===================\n",
            "Validation Cost0.5\n",
            "=================== \n",
            "\n"
          ]
        },
        {
          "output_type": "stream",
          "name": "stderr",
          "text": [
            "Epoch 76: 100%|██████████| 157/157 [00:01<00:00, 103.55it/s]\n"
          ]
        },
        {
          "output_type": "stream",
          "name": "stdout",
          "text": [
            "========\n",
            "Cost0.51\n",
            "======== \n",
            "\n",
            "===================\n",
            "Validation Cost0.5\n",
            "=================== \n",
            "\n"
          ]
        },
        {
          "output_type": "stream",
          "name": "stderr",
          "text": [
            "Epoch 77: 100%|██████████| 157/157 [00:01<00:00, 111.81it/s]\n"
          ]
        },
        {
          "output_type": "stream",
          "name": "stdout",
          "text": [
            "========\n",
            "Cost0.5\n",
            "======== \n",
            "\n",
            "===================\n",
            "Validation Cost0.5\n",
            "=================== \n",
            "\n"
          ]
        },
        {
          "output_type": "stream",
          "name": "stderr",
          "text": [
            "Epoch 78: 100%|██████████| 157/157 [00:01<00:00, 127.61it/s]\n"
          ]
        },
        {
          "output_type": "stream",
          "name": "stdout",
          "text": [
            "========\n",
            "Cost0.5\n",
            "======== \n",
            "\n",
            "===================\n",
            "Validation Cost0.5\n",
            "=================== \n",
            "\n"
          ]
        },
        {
          "output_type": "stream",
          "name": "stderr",
          "text": [
            "Epoch 79: 100%|██████████| 157/157 [00:01<00:00, 128.70it/s]\n"
          ]
        },
        {
          "output_type": "stream",
          "name": "stdout",
          "text": [
            "========\n",
            "Cost0.5\n",
            "======== \n",
            "\n",
            "===================\n",
            "Validation Cost0.51\n",
            "=================== \n",
            "\n"
          ]
        },
        {
          "output_type": "stream",
          "name": "stderr",
          "text": [
            "Epoch 80: 100%|██████████| 157/157 [00:01<00:00, 123.75it/s]\n"
          ]
        },
        {
          "output_type": "stream",
          "name": "stdout",
          "text": [
            "========\n",
            "Cost0.5\n",
            "======== \n",
            "\n",
            "===================\n",
            "Validation Cost0.51\n",
            "=================== \n",
            "\n"
          ]
        },
        {
          "output_type": "stream",
          "name": "stderr",
          "text": [
            "Epoch 81: 100%|██████████| 157/157 [00:01<00:00, 123.77it/s]\n"
          ]
        },
        {
          "output_type": "stream",
          "name": "stdout",
          "text": [
            "========\n",
            "Cost0.5\n",
            "======== \n",
            "\n",
            "===================\n",
            "Validation Cost0.51\n",
            "=================== \n",
            "\n"
          ]
        },
        {
          "output_type": "stream",
          "name": "stderr",
          "text": [
            "Epoch 82: 100%|██████████| 157/157 [00:01<00:00, 125.78it/s]\n"
          ]
        },
        {
          "output_type": "stream",
          "name": "stdout",
          "text": [
            "========\n",
            "Cost0.5\n",
            "======== \n",
            "\n",
            "===================\n",
            "Validation Cost0.51\n",
            "=================== \n",
            "\n"
          ]
        },
        {
          "output_type": "stream",
          "name": "stderr",
          "text": [
            "Epoch 83: 100%|██████████| 157/157 [00:01<00:00, 127.54it/s]\n"
          ]
        },
        {
          "output_type": "stream",
          "name": "stdout",
          "text": [
            "========\n",
            "Cost0.51\n",
            "======== \n",
            "\n",
            "===================\n",
            "Validation Cost0.5\n",
            "=================== \n",
            "\n"
          ]
        },
        {
          "output_type": "stream",
          "name": "stderr",
          "text": [
            "Epoch 84: 100%|██████████| 157/157 [00:01<00:00, 120.09it/s]\n"
          ]
        },
        {
          "output_type": "stream",
          "name": "stdout",
          "text": [
            "========\n",
            "Cost0.5\n",
            "======== \n",
            "\n",
            "===================\n",
            "Validation Cost0.51\n",
            "=================== \n",
            "\n"
          ]
        },
        {
          "output_type": "stream",
          "name": "stderr",
          "text": [
            "Epoch 85: 100%|██████████| 157/157 [00:01<00:00, 111.96it/s]\n"
          ]
        },
        {
          "output_type": "stream",
          "name": "stdout",
          "text": [
            "========\n",
            "Cost0.5\n",
            "======== \n",
            "\n",
            "===================\n",
            "Validation Cost0.51\n",
            "=================== \n",
            "\n"
          ]
        },
        {
          "output_type": "stream",
          "name": "stderr",
          "text": [
            "Epoch 86: 100%|██████████| 157/157 [00:01<00:00, 115.01it/s]\n"
          ]
        },
        {
          "output_type": "stream",
          "name": "stdout",
          "text": [
            "========\n",
            "Cost0.5\n",
            "======== \n",
            "\n",
            "===================\n",
            "Validation Cost0.51\n",
            "=================== \n",
            "\n"
          ]
        },
        {
          "output_type": "stream",
          "name": "stderr",
          "text": [
            "Epoch 87: 100%|██████████| 157/157 [00:01<00:00, 104.11it/s]\n"
          ]
        },
        {
          "output_type": "stream",
          "name": "stdout",
          "text": [
            "========\n",
            "Cost0.51\n",
            "======== \n",
            "\n",
            "===================\n",
            "Validation Cost0.5\n",
            "=================== \n",
            "\n"
          ]
        },
        {
          "output_type": "stream",
          "name": "stderr",
          "text": [
            "Epoch 88: 100%|██████████| 157/157 [00:01<00:00, 124.38it/s]\n"
          ]
        },
        {
          "output_type": "stream",
          "name": "stdout",
          "text": [
            "========\n",
            "Cost0.5\n",
            "======== \n",
            "\n",
            "===================\n",
            "Validation Cost0.49\n",
            "=================== \n",
            "\n"
          ]
        },
        {
          "output_type": "stream",
          "name": "stderr",
          "text": [
            "Epoch 89: 100%|██████████| 157/157 [00:01<00:00, 124.04it/s]\n"
          ]
        },
        {
          "output_type": "stream",
          "name": "stdout",
          "text": [
            "========\n",
            "Cost0.51\n",
            "======== \n",
            "\n",
            "===================\n",
            "Validation Cost0.51\n",
            "=================== \n",
            "\n"
          ]
        },
        {
          "output_type": "stream",
          "name": "stderr",
          "text": [
            "Epoch 90: 100%|██████████| 157/157 [00:01<00:00, 123.43it/s]\n"
          ]
        },
        {
          "output_type": "stream",
          "name": "stdout",
          "text": [
            "========\n",
            "Cost0.5\n",
            "======== \n",
            "\n",
            "===================\n",
            "Validation Cost0.51\n",
            "=================== \n",
            "\n"
          ]
        },
        {
          "output_type": "stream",
          "name": "stderr",
          "text": [
            "Epoch 91: 100%|██████████| 157/157 [00:01<00:00, 123.69it/s]\n"
          ]
        },
        {
          "output_type": "stream",
          "name": "stdout",
          "text": [
            "========\n",
            "Cost0.5\n",
            "======== \n",
            "\n",
            "===================\n",
            "Validation Cost0.49\n",
            "=================== \n",
            "\n"
          ]
        },
        {
          "output_type": "stream",
          "name": "stderr",
          "text": [
            "Epoch 92: 100%|██████████| 157/157 [00:01<00:00, 124.50it/s]\n"
          ]
        },
        {
          "output_type": "stream",
          "name": "stdout",
          "text": [
            "========\n",
            "Cost0.5\n",
            "======== \n",
            "\n",
            "===================\n",
            "Validation Cost0.51\n",
            "=================== \n",
            "\n"
          ]
        },
        {
          "output_type": "stream",
          "name": "stderr",
          "text": [
            "Epoch 93: 100%|██████████| 157/157 [00:01<00:00, 125.32it/s]\n"
          ]
        },
        {
          "output_type": "stream",
          "name": "stdout",
          "text": [
            "========\n",
            "Cost0.5\n",
            "======== \n",
            "\n",
            "===================\n",
            "Validation Cost0.5\n",
            "=================== \n",
            "\n"
          ]
        },
        {
          "output_type": "stream",
          "name": "stderr",
          "text": [
            "Epoch 94: 100%|██████████| 157/157 [00:01<00:00, 123.44it/s]\n"
          ]
        },
        {
          "output_type": "stream",
          "name": "stdout",
          "text": [
            "========\n",
            "Cost0.5\n",
            "======== \n",
            "\n",
            "===================\n",
            "Validation Cost0.51\n",
            "=================== \n",
            "\n"
          ]
        },
        {
          "output_type": "stream",
          "name": "stderr",
          "text": [
            "Epoch 95: 100%|██████████| 157/157 [00:01<00:00, 101.98it/s]\n"
          ]
        },
        {
          "output_type": "stream",
          "name": "stdout",
          "text": [
            "========\n",
            "Cost0.5\n",
            "======== \n",
            "\n",
            "===================\n",
            "Validation Cost0.5\n",
            "=================== \n",
            "\n"
          ]
        },
        {
          "output_type": "stream",
          "name": "stderr",
          "text": [
            "Epoch 96: 100%|██████████| 157/157 [00:01<00:00, 101.84it/s]\n"
          ]
        },
        {
          "output_type": "stream",
          "name": "stdout",
          "text": [
            "========\n",
            "Cost0.5\n",
            "======== \n",
            "\n",
            "===================\n",
            "Validation Cost0.5\n",
            "=================== \n",
            "\n"
          ]
        },
        {
          "output_type": "stream",
          "name": "stderr",
          "text": [
            "Epoch 97: 100%|██████████| 157/157 [00:01<00:00, 106.87it/s]\n"
          ]
        },
        {
          "output_type": "stream",
          "name": "stdout",
          "text": [
            "========\n",
            "Cost0.5\n",
            "======== \n",
            "\n",
            "===================\n",
            "Validation Cost0.51\n",
            "=================== \n",
            "\n"
          ]
        },
        {
          "output_type": "stream",
          "name": "stderr",
          "text": [
            "Epoch 98: 100%|██████████| 157/157 [00:01<00:00, 125.44it/s]\n"
          ]
        },
        {
          "output_type": "stream",
          "name": "stdout",
          "text": [
            "========\n",
            "Cost0.5\n",
            "======== \n",
            "\n",
            "===================\n",
            "Validation Cost0.51\n",
            "=================== \n",
            "\n"
          ]
        },
        {
          "output_type": "stream",
          "name": "stderr",
          "text": [
            "Epoch 99: 100%|██████████| 157/157 [00:01<00:00, 130.14it/s]\n"
          ]
        },
        {
          "output_type": "stream",
          "name": "stdout",
          "text": [
            "========\n",
            "Cost0.5\n",
            "======== \n",
            "\n",
            "===================\n",
            "Validation Cost0.51\n",
            "=================== \n",
            "\n"
          ]
        },
        {
          "output_type": "stream",
          "name": "stderr",
          "text": [
            "Epoch 100: 100%|██████████| 157/157 [00:01<00:00, 126.48it/s]"
          ]
        },
        {
          "output_type": "stream",
          "name": "stdout",
          "text": [
            "========\n",
            "Cost0.5\n",
            "======== \n",
            "\n",
            "===================\n",
            "Validation Cost0.51\n",
            "=================== \n",
            "\n"
          ]
        },
        {
          "output_type": "stream",
          "name": "stderr",
          "text": [
            "\n"
          ]
        }
      ],
      "source": [
        "device = torch.device(\"cuda\")\n",
        "model = MyModel(num_ifos=IFOS).to(device)\n",
        "epochs = 100\n",
        "learning_rate = 0.0005\n",
        "criterion = nn.CrossEntropyLoss()\n",
        "\n",
        "opt = torch.optim.Adam(\n",
        "    model.parameters(),\n",
        "    lr=learning_rate,\n",
        "    weight_decay=1e-4\n",
        ")\n",
        "\n",
        "cost_value = np.empty(epochs)\n",
        "cost_valid_value = np.empty(epochs)\n",
        "\n",
        "for i in range(epochs):\n",
        "    t_cost = 0\n",
        "    for j, (x, y) in enumerate(tqdm(training_data, desc=f'Epoch {i+1}')):\n",
        "        x = x.to(device)\n",
        "        y = y.to(device)\n",
        "\n",
        "        p_value = model(x)\n",
        "        cost = criterion(p_value, torch.argmax(y, dim = 1))\n",
        "\n",
        "        opt.zero_grad()\n",
        "        cost.backward()\n",
        "        opt.step()\n",
        "\n",
        "        t_cost += cost.item()\n",
        "\n",
        "    cost_value[i] = t_cost/(j+1)\n",
        "\n",
        "    print('========')\n",
        "    print(f'Cost{round(cost_value[i], 2)}')\n",
        "    print('========', '\\n')\n",
        "\n",
        "    with torch.no_grad():\n",
        "        v_cost = 0\n",
        "        for run, (a, b) in enumerate(validation_data):\n",
        "            a = a.to(device)\n",
        "            b = b.to(device)\n",
        "\n",
        "            p_value = model(a)\n",
        "            cost_valid = criterion(p_value, torch.argmax(b, dim = 1))\n",
        "\n",
        "            v_cost += cost_valid.item()\n",
        "\n",
        "        cost_valid_value[i] = v_cost/(run+1)\n",
        "\n",
        "        print('===================')\n",
        "        print(f'Validation Cost{round(cost_valid_value[i], 2)}')\n",
        "        print('===================', '\\n')"
      ]
    },
    {
      "cell_type": "markdown",
      "metadata": {
        "id": "GmBrfV0H4SsJ"
      },
      "source": [
        "# Plots"
      ]
    },
    {
      "cell_type": "code",
      "execution_count": 47,
      "metadata": {
        "id": "nTE47ZmL4SsJ",
        "colab": {
          "base_uri": "https://localhost:8080/",
          "height": 472
        },
        "outputId": "76468821-99a0-412a-b07f-ec6384a3f3ae"
      },
      "outputs": [
        {
          "output_type": "display_data",
          "data": {
            "text/plain": [
              "<Figure size 640x480 with 1 Axes>"
            ],
            "image/png": "[encoded data removed]"
          },
          "metadata": {}
        }
      ],
      "source": [
        "total_epoch = np.linspace(1, epochs, epochs)\n",
        "plt.title('Loss value to epoch')\n",
        "plt.plot(total_epoch, cost_value, label = 'Training Set')\n",
        "plt.plot(total_epoch, cost_valid_value, label = 'Validation Set')\n",
        "plt.xlabel('Epoch')\n",
        "plt.ylabel('Loss Value')\n",
        "plt.legend()\n",
        "plt.savefig(f'{OUT_BASE}/Loss.png', bbox_inches = 'tight')\n",
        "plt.show()\n",
        "plt.close()"
      ]
    },
    {
      "cell_type": "code",
      "execution_count": 48,
      "metadata": {
        "id": "P18pmlCN4SsK"
      },
      "outputs": [],
      "source": [
        "device = 'cpu'\n",
        "classifier = model.to(device)\n",
        "torch.save(classifier, f'{OUT_BASE}/model.pt')"
      ]
    },
    {
      "cell_type": "markdown",
      "metadata": {
        "id": "NVCSwrgK4SsK"
      },
      "source": [
        "# Test"
      ]
    },
    {
      "cell_type": "code",
      "execution_count": 49,
      "metadata": {
        "id": "jWAz4nLd4SsJ",
        "colab": {
          "base_uri": "https://localhost:8080/",
          "height": 544
        },
        "outputId": "45bf1624-a4c0-4ef6-b45c-34ca468df315"
      },
      "outputs": [
        {
          "output_type": "stream",
          "name": "stderr",
          "text": [
            "100%|██████████| 157/157 [00:10<00:00, 14.70it/s]\n"
          ]
        },
        {
          "output_type": "stream",
          "name": "stdout",
          "text": [
            "TPR: 0.799\n",
            "FAR: 0.201\n"
          ]
        },
        {
          "output_type": "display_data",
          "data": {
            "text/plain": [
              "<Figure size 640x480 with 2 Axes>"
            ],
            "image/png": "[encoded data removed]"
          },
          "metadata": {}
        },
        {
          "output_type": "stream",
          "name": "stdout",
          "text": [
            "0.799\n"
          ]
        }
      ],
      "source": [
        "device = 'cpu'\n",
        "metrix = torch.zeros([2,2]).to(device)\n",
        "num_count = torch.zeros([2]).to(device)\n",
        "dtype = torch.FloatTensor\n",
        "\n",
        "with torch.no_grad():\n",
        "    for num, (x, y) in enumerate(tqdm(training_data)):\n",
        "\n",
        "        Real_label = y.to(device)\n",
        "\n",
        "        # Convert sofmax output to onehot\n",
        "        max_class = torch.Tensor.argmax(model(x.to(device)), axis=1)\n",
        "        pred = F.one_hot(max_class)\n",
        "\n",
        "        # Accumlating statical value\n",
        "        metrix += torch.matmul(pred.T.type(dtype), Real_label.type(dtype))\n",
        "        num_count += Real_label.sum(axis=0)\n",
        "\n",
        "    num_count = num_count.detach().cpu().numpy().astype('float64')\n",
        "    metrix = metrix.detach().cpu().numpy().astype('float64')\n",
        "\n",
        "\n",
        "# Normalizing confusion matrix\n",
        "metrix /= num_count\n",
        "\n",
        "# Plotting Scheme\n",
        "TPR = round((metrix[0,0] + metrix[1,1])/2, 3)\n",
        "FAR = round(1 - TPR, 3)\n",
        "\n",
        "print(f'TPR: {TPR}')\n",
        "print(f'FAR: {FAR}')\n",
        "\n",
        "lab = np.array([['True P', 'False P'], ['False N', 'True N']])\n",
        "plt.figure()\n",
        "color = plt.pcolormesh([metrix[1], metrix[0]], cmap = 'Wistia', vmin=0, vmax=1)\n",
        "for i in range(2):\n",
        "    for j in range(2):\n",
        "\n",
        "        plt.text(i+.5, j+.5,\n",
        "                 f'{lab[1-j,i]}\\n{round(metrix[1-j,i],3)}',\n",
        "                 ha = 'center',\n",
        "                 va = 'center')\n",
        "\n",
        "plt.xticks([.5, 1.5], ['Injection', 'Noise'])\n",
        "plt.yticks([.5, 1.5], ['Noise', 'Injection'], rotation=45)\n",
        "plt.xlabel('Real Value')\n",
        "plt.ylabel('Predict', rotation=0)\n",
        "plt.title(\n",
        "    f'Training set with:     TPR: {TPR}FAR: {FAR}'\n",
        ")\n",
        "plt.colorbar(color)\n",
        "plt.savefig(f'{OUT_BASE}/Training_set_performance.png', bbox_inches = 'tight')\n",
        "plt.show()\n",
        "plt.close()\n",
        "print(TPR)"
      ]
    },
    {
      "cell_type": "code",
      "execution_count": 50,
      "metadata": {
        "id": "vWAEJyCe4SsJ",
        "colab": {
          "base_uri": "https://localhost:8080/",
          "height": 526
        },
        "outputId": "53df7cbd-1991-4b2f-e90f-fa276fe79816"
      },
      "outputs": [
        {
          "output_type": "stream",
          "name": "stderr",
          "text": [
            "100%|██████████| 32/32 [00:00<00:00, 32.15it/s]\n"
          ]
        },
        {
          "output_type": "stream",
          "name": "stdout",
          "text": [
            "TPR: 0.774\n",
            "FAR: 0.226\n"
          ]
        },
        {
          "output_type": "display_data",
          "data": {
            "text/plain": [
              "<Figure size 640x480 with 2 Axes>"
            ],
            "image/png": "[encoded data removed]"
          },
          "metadata": {}
        }
      ],
      "source": [
        "metrix = torch.zeros([2,2]).to(device)\n",
        "num_count = torch.zeros([2]).to(device)\n",
        "dtype = torch.FloatTensor\n",
        "\n",
        "with torch.no_grad():\n",
        "    for num, (x, y) in enumerate(tqdm(validation_data)):\n",
        "\n",
        "        Real_label = y.to(device)\n",
        "\n",
        "        # Convert sofmax output to onehot\n",
        "        max_class = torch.Tensor.argmax(model(x.to(device)), axis=1)\n",
        "        pred = F.one_hot(max_class)\n",
        "\n",
        "        # Accumlating statical value\n",
        "        metrix += torch.matmul(pred.T.type(dtype), Real_label.type(dtype))\n",
        "        num_count += Real_label.sum(axis=0)\n",
        "\n",
        "    num_count = num_count.detach().cpu().numpy().astype('float64')\n",
        "    metrix = metrix.detach().cpu().numpy().astype('float64')\n",
        "\n",
        "\n",
        "# Normalizing confusion matrix\n",
        "metrix /= num_count\n",
        "\n",
        "# Plotting Scheme\n",
        "TPR = round((metrix[0,0] + metrix[1,1])/2, 3)\n",
        "FAR = round(1 - TPR, 3)\n",
        "\n",
        "\n",
        "print(f'TPR: {TPR}')\n",
        "print(f'FAR: {FAR}')\n",
        "\n",
        "lab = np.array([['True P', 'False P'], ['False N', 'True N']])\n",
        "plt.figure()\n",
        "color = plt.pcolormesh([metrix[1], metrix[0]], cmap = 'Wistia', vmin=0, vmax=1)\n",
        "for i in range(2):\n",
        "    for j in range(2):\n",
        "\n",
        "        plt.text(i+.5, j+.5,\n",
        "                 f'{lab[1-j,i]}\\n{round(metrix[1-j,i],3)}',\n",
        "                 ha = 'center',\n",
        "                 va = 'center')\n",
        "\n",
        "plt.xticks([.5, 1.5], ['Injection', 'Noise'])\n",
        "plt.yticks([.5, 1.5], ['Noise', 'Injection'], rotation=45)\n",
        "plt.xlabel('Real Value')\n",
        "plt.ylabel('Predict', rotation=0)\n",
        "plt.title(\n",
        "    f'Training set with:     TPR: {TPR}FAR: {FAR}'\n",
        ")\n",
        "plt.colorbar(color)\n",
        "plt.savefig(f'{OUT_BASE}/Validation_set_performance.png', bbox_inches = 'tight')\n",
        "plt.show()\n",
        "plt.close()"
      ]
    },
    {
      "cell_type": "code",
      "execution_count": 20,
      "metadata": {
        "id": "u35MFFTn4SsK",
        "colab": {
          "base_uri": "https://localhost:8080/"
        },
        "outputId": "7af84cda-4916-4d8a-af74-0b63777b4c08"
      },
      "outputs": [
        {
          "output_type": "execute_result",
          "data": {
            "text/plain": [
              "MyModel(\n",
              "  (conv1): Conv1d(1, 10, kernel_size=(5,), stride=(2,), padding=(2,))\n",
              "  (norm1): BatchNorm1d(1, eps=1e-05, momentum=0.1, affine=True, track_running_stats=True)\n",
              "  (norm2): BatchNorm1d(10, eps=1e-05, momentum=0.1, affine=True, track_running_stats=True)\n",
              "  (conv2): Conv1d(10, 20, kernel_size=(5,), stride=(2,), padding=(2,))\n",
              "  (norm3): BatchNorm1d(20, eps=1e-05, momentum=0.1, affine=True, track_running_stats=True)\n",
              "  (conv3): Conv1d(20, 10, kernel_size=(5,), stride=(2,), padding=(2,))\n",
              "  (norm4): BatchNorm1d(10, eps=1e-05, momentum=0.1, affine=True, track_running_stats=True)\n",
              "  (conv4): Conv1d(10, 5, kernel_size=(5,), stride=(2,), padding=(2,))\n",
              "  (conv1_drop): Dropout1d(p=0.5, inplace=False)\n",
              "  (fc1): Linear(in_features=160, out_features=64, bias=True)\n",
              "  (fc2): Linear(in_features=64, out_features=32, bias=True)\n",
              "  (fc3): Linear(in_features=32, out_features=2, bias=True)\n",
              ")"
            ]
          },
          "metadata": {},
          "execution_count": 20
        }
      ],
      "source": [
        "Kate_Moss = MyModel(num_ifos = IFOS)\n",
        "Kate_Moss = torch.load(f'{OUT_BASE}/model.pt')\n",
        "Kate_Moss.eval()\n",
        "Kate_Moss.to(device)"
      ]
    },
    {
      "cell_type": "code",
      "execution_count": 21,
      "metadata": {
        "id": "lVm4ytxf4SsL"
      },
      "outputs": [],
      "source": [
        "dataset_t = MyDataset(strains[1], targets[1])\n",
        "test_data = DataLoader(\n",
        "    dataset_t,\n",
        "    batch_size=32,\n",
        "    shuffle=True\n",
        ")"
      ]
    },
    {
      "cell_type": "code",
      "execution_count": 51,
      "metadata": {
        "id": "GW5FXNbV4SsL",
        "colab": {
          "base_uri": "https://localhost:8080/",
          "height": 526
        },
        "outputId": "4fd8a8bd-4bc2-4b21-f93b-e68a3db64395"
      },
      "outputs": [
        {
          "output_type": "stream",
          "name": "stderr",
          "text": [
            "100%|██████████| 32/32 [00:00<00:00, 32.42it/s]\n"
          ]
        },
        {
          "output_type": "stream",
          "name": "stdout",
          "text": [
            "TPR: 0.775\n",
            "FAR: 0.225\n"
          ]
        },
        {
          "output_type": "display_data",
          "data": {
            "text/plain": [
              "<Figure size 640x480 with 2 Axes>"
            ],
            "image/png": "[encoded data removed]"
          },
          "metadata": {}
        }
      ],
      "source": [
        "device = 'cpu'\n",
        "\n",
        "metrix = torch.zeros([2,2]).to(device)\n",
        "num_count = torch.zeros([2]).to(device)\n",
        "dtype = torch.FloatTensor\n",
        "\n",
        "with torch.no_grad():\n",
        "    for num, (x, y) in enumerate(tqdm(test_data)):\n",
        "\n",
        "        Real_label = y.to(device)\n",
        "\n",
        "        # Convert sofmax output to onehot\n",
        "        max_class = torch.Tensor.argmax(model(x.to(device)), axis=1)\n",
        "        pred = F.one_hot(max_class)\n",
        "\n",
        "        # Accumlating statical value\n",
        "        metrix += torch.matmul(pred.T.type(dtype), Real_label.type(dtype))\n",
        "        num_count += Real_label.sum(axis=0)\n",
        "\n",
        "    num_count = num_count.detach().cpu().numpy().astype('float64')\n",
        "    metrix = metrix.detach().cpu().numpy().astype('float64')\n",
        "\n",
        "\n",
        "# Normalizing confusion matrix\n",
        "metrix /= num_count\n",
        "\n",
        "# Plotting Scheme\n",
        "TPR = round((metrix[0,0] + metrix[1,1])/2, 3)\n",
        "FAR = round(1 - TPR, 3)\n",
        "\n",
        "print(f'TPR: {TPR}')\n",
        "print(f'FAR: {FAR}')\n",
        "\n",
        "lab = np.array([['True P', 'False P'], ['False N', 'True N']])\n",
        "plt.figure()\n",
        "color = plt.pcolormesh([metrix[1], metrix[0]], cmap = 'Wistia', vmin=0, vmax=1)\n",
        "for i in range(2):\n",
        "    for j in range(2):\n",
        "\n",
        "        plt.text(i+.5, j+.5,\n",
        "                 f'{lab[1-j,i]}\\n{round(metrix[1-j,i],3)}',\n",
        "                 ha = 'center',\n",
        "                 va = 'center')\n",
        "\n",
        "plt.xticks([.5, 1.5], ['Injection', 'Noise'])\n",
        "plt.yticks([.5, 1.5], ['Noise', 'Injection'], rotation=45)\n",
        "plt.xlabel('Real Value')\n",
        "plt.ylabel('Predict', rotation=0)\n",
        "plt.title(\n",
        "    f'Training set with:     TPR: {TPR}FAR: {FAR}'\n",
        ")\n",
        "plt.colorbar(color)\n",
        "plt.savefig(f'{OUT_BASE}/Test_set_performance.png', bbox_inches = 'tight')\n",
        "plt.show()\n",
        "plt.close()"
      ]
    }
  ],
  "metadata": {
    "accelerator": "GPU",
    "colab": {
      "provenance": [],
      "gpuType": "T4",
      "include_colab_link": true
    },
    "kernelspec": {
      "display_name": "Python 3",
      "name": "python3"
    },
    "language_info": {
      "codemirror_mode": {
        "name": "ipython",
        "version": 3
      },
      "file_extension": ".py",
      "mimetype": "text/x-python",
      "name": "python",
      "nbconvert_exporter": "python",
      "pygments_lexer": "ipython3",
      "version": "3.10.9"
    },
    "vscode": {
      "interpreter": {
        "hash": "04507afa2f9cf044c9eed37b12f9ede36e6669b5e4b06879af0b3930c0accf80"
      }
    }
  },
  "nbformat": 4,
  "nbformat_minor": 0
}
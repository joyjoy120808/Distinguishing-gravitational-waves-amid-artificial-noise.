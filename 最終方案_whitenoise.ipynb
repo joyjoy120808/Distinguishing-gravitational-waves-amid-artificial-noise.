{
  "cells": [
    {
      "cell_type": "code",
      "execution_count": null,
      "metadata": {
        "id": "scfJL8Zw-CXR",
        "colab": {
          "base_uri": "https://localhost:8080/"
        },
        "outputId": "9158d4f6-44aa-4a86-dea4-89dd0180121d"
      },
      "outputs": [
        {
          "output_type": "stream",
          "name": "stdout",
          "text": [
            "\u001b[2K     \u001b[90m━━━━━━━━━━━━━━━━━━━━━━━━━━━━━━━━━━━━━━━━\u001b[0m \u001b[32m8.4/8.4 MB\u001b[0m \u001b[31m19.1 MB/s\u001b[0m eta \u001b[36m0:00:00\u001b[0m\n",
            "\u001b[2K     \u001b[90m━━━━━━━━━━━━━━━━━━━━━━━━━━━━━━━━━━━━━━━━\u001b[0m \u001b[32m202.6/202.6 kB\u001b[0m \u001b[31m23.4 MB/s\u001b[0m eta \u001b[36m0:00:00\u001b[0m\n",
            "\u001b[2K     \u001b[90m━━━━━━━━━━━━━━━━━━━━━━━━━━━━━━━━━━━━━━━━\u001b[0m \u001b[32m78.8/78.8 kB\u001b[0m \u001b[31m4.3 MB/s\u001b[0m eta \u001b[36m0:00:00\u001b[0m\n",
            "\u001b[2K     \u001b[90m━━━━━━━━━━━━━━━━━━━━━━━━━━━━━━━━━━━━━━━━\u001b[0m \u001b[32m45.5/45.5 kB\u001b[0m \u001b[31m5.3 MB/s\u001b[0m eta \u001b[36m0:00:00\u001b[0m\n",
            "\u001b[2K     \u001b[90m━━━━━━━━━━━━━━━━━━━━━━━━━━━━━━━━━━━━━━━━\u001b[0m \u001b[32m47.6/47.6 kB\u001b[0m \u001b[31m4.4 MB/s\u001b[0m eta \u001b[36m0:00:00\u001b[0m\n",
            "\u001b[?25h  Installing build dependencies ... \u001b[?25l\u001b[?25hdone\n",
            "  Getting requirements to build wheel ... \u001b[?25l\u001b[?25hdone\n",
            "  Preparing metadata (pyproject.toml) ... \u001b[?25l\u001b[?25hdone\n",
            "\u001b[2K     \u001b[90m━━━━━━━━━━━━━━━━━━━━━━━━━━━━━━━━━━━━━━━━\u001b[0m \u001b[32m2.3/2.3 MB\u001b[0m \u001b[31m46.3 MB/s\u001b[0m eta \u001b[36m0:00:00\u001b[0m\n",
            "\u001b[?25h  Preparing metadata (setup.py) ... \u001b[?25l\u001b[?25hdone\n",
            "\u001b[2K     \u001b[90m━━━━━━━━━━━━━━━━━━━━━━━━━━━━━━━━━━━━━━━━\u001b[0m \u001b[32m51.0/51.0 kB\u001b[0m \u001b[31m6.9 MB/s\u001b[0m eta \u001b[36m0:00:00\u001b[0m\n",
            "\u001b[?25h  Preparing metadata (setup.py) ... \u001b[?25l\u001b[?25hdone\n",
            "\u001b[2K     \u001b[90m━━━━━━━━━━━━━━━━━━━━━━━━━━━━━━━━━━━━━━━━\u001b[0m \u001b[32m43.1/43.1 MB\u001b[0m \u001b[31m21.6 MB/s\u001b[0m eta \u001b[36m0:00:00\u001b[0m\n",
            "\u001b[2K     \u001b[90m━━━━━━━━━━━━━━━━━━━━━━━━━━━━━━━━━━━━━━━━\u001b[0m \u001b[32m46.5/46.5 kB\u001b[0m \u001b[31m6.8 MB/s\u001b[0m eta \u001b[36m0:00:00\u001b[0m\n",
            "\u001b[2K     \u001b[90m━━━━━━━━━━━━━━━━━━━━━━━━━━━━━━━━━━━━━━━━\u001b[0m \u001b[32m48.1/48.1 MB\u001b[0m \u001b[31m12.0 MB/s\u001b[0m eta \u001b[36m0:00:00\u001b[0m\n",
            "\u001b[2K     \u001b[90m━━━━━━━━━━━━━━━━━━━━━━━━━━━━━━━━━━━━━━━━\u001b[0m \u001b[32m47.1/47.1 kB\u001b[0m \u001b[31m6.3 MB/s\u001b[0m eta \u001b[36m0:00:00\u001b[0m\n",
            "\u001b[?25h  Installing build dependencies ... \u001b[?25l\u001b[?25hdone\n",
            "  Getting requirements to build wheel ... \u001b[?25l\u001b[?25hdone\n",
            "  Preparing metadata (pyproject.toml) ... \u001b[?25l\u001b[?25hdone\n",
            "  Building wheel for pegasus-wms.api (pyproject.toml) ... \u001b[?25l\u001b[?25hdone\n",
            "  Building wheel for python-ligo-lw (setup.py) ... \u001b[?25l\u001b[?25hdone\n",
            "  Building wheel for ligo-segments (setup.py) ... \u001b[?25l\u001b[?25hdone\n",
            "  Building wheel for pegasus-wms.common (pyproject.toml) ... \u001b[?25l\u001b[?25hdone\n"
          ]
        }
      ],
      "source": [
        "pip install -q pycbc"
      ]
    },
    {
      "cell_type": "code",
      "execution_count": null,
      "metadata": {
        "colab": {
          "base_uri": "https://localhost:8080/"
        },
        "id": "756M9sakU2Fv",
        "outputId": "d5e6d632-2a51-41f2-a872-544353bf856b"
      },
      "outputs": [
        {
          "output_type": "stream",
          "name": "stdout",
          "text": [
            "Mounted at /content/drive\n",
            "/content/drive/MyDrive/Wavedata\n"
          ]
        }
      ],
      "source": [
        "from google.colab import drive\n",
        "drive.mount('/content/drive')\n",
        "%cd /content/drive/MyDrive/Wavedata"
      ]
    },
    {
      "cell_type": "code",
      "execution_count": null,
      "metadata": {
        "id": "eX2BGMCm4SsA",
        "colab": {
          "base_uri": "https://localhost:8080/"
        },
        "outputId": "76a00267-7ec5-401a-f433-3e5d4f7b77b6"
      },
      "outputs": [
        {
          "output_type": "stream",
          "name": "stderr",
          "text": [
            "/usr/local/lib/python3.10/dist-packages/pycbc/types/array.py:36: UserWarning: Wswiglal-redir-stdio:\n",
            "\n",
            "SWIGLAL standard output/error redirection is enabled in IPython.\n",
            "This may lead to performance penalties. To disable locally, use:\n",
            "\n",
            "with lal.no_swig_redirect_standard_output_error():\n",
            "    ...\n",
            "\n",
            "To disable globally, use:\n",
            "\n",
            "lal.swig_redirect_standard_output_error(False)\n",
            "\n",
            "Note however that this will likely lead to error messages from\n",
            "LAL functions being either misdirected or lost when called from\n",
            "Jupyter notebooks.\n",
            "\n",
            "To suppress this warning, use:\n",
            "\n",
            "import warnings\n",
            "warnings.filterwarnings(\"ignore\", \"Wswiglal-redir-stdio\")\n",
            "import lal\n",
            "\n",
            "  import lal as _lal\n"
          ]
        }
      ],
      "source": [
        "import os\n",
        "from pathlib import Path\n",
        "from tqdm import tqdm\n",
        "import h5py\n",
        "import json\n",
        "\n",
        "import numpy as np\n",
        "from pycbc.waveform import get_td_waveform\n",
        "import matplotlib as mpl\n",
        "import matplotlib.pyplot as plt\n",
        "\n",
        "import torch\n",
        "from torch import nn\n",
        "import torch.nn.functional as F\n",
        "from torch import Tensor\n",
        "from torchsummary import summary\n",
        "from torch.utils.data import Dataset, DataLoader\n",
        "\n",
        "%matplotlib inline"
      ]
    },
    {
      "cell_type": "code",
      "execution_count": null,
      "metadata": {
        "id": "1i5rGlQL4SsB"
      },
      "outputs": [],
      "source": [
        "TRAIN_TOTAL, VALID_TOTAL, TEST_TOTAL = 5000, 1000, 1000\n",
        "IFOS, KERNEL = 1, 8192\n",
        "\n",
        "DATA_BASE = '/content/drive/MyDrive/Wavedata/Data'\n",
        "OUT_BASE = '/content/drive/MyDrive/Wavedata/Outputs'\n",
        "\n",
        "TRAINING_FILE = f'{DATA_BASE}/training_data.h5'\n",
        "VALIDATION_FILE = f'{DATA_BASE}/validation_data.h5'\n",
        "TESTING_FILE = f'{DATA_BASE}/testing_data.h5'"
      ]
    },
    {
      "cell_type": "code",
      "execution_count": null,
      "metadata": {
        "id": "x7MKfHgv5XKH"
      },
      "outputs": [],
      "source": [
        "!mkdir -p /content/drive/MyDrive/Wavedata/Data\n",
        "!mkdir -p /content/drive/MyDrive/Wavedata/Outputs"
      ]
    },
    {
      "cell_type": "code",
      "execution_count": null,
      "metadata": {
        "id": "c3K_3jBU4SsE",
        "colab": {
          "base_uri": "https://localhost:8080/"
        },
        "outputId": "0f140e74-2973-429f-82eb-44db1eca5dfc"
      },
      "outputs": [
        {
          "output_type": "stream",
          "name": "stdout",
          "text": [
            "Start Loading Training data...\n",
            "Training data Loaded!\n",
            "Start Loading Validation data...\n",
            "Validation data Loaded!\n",
            "Start Loading Testing data...\n",
            "Testing data Loaded!\n"
          ]
        }
      ],
      "source": [
        "data_set_name = ['Training', 'Validation', 'Testing']\n",
        "data_files = [TRAINING_FILE, VALIDATION_FILE, TESTING_FILE]\n",
        "time = np.arange(-1, 1, 1/4096)\n",
        "strains = []\n",
        "targets = []\n",
        "\n",
        "for idx, data_size in enumerate([TRAIN_TOTAL, VALID_TOTAL, TEST_TOTAL]):\n",
        "    if Path(data_files[idx]).exists() == False:\n",
        "\n",
        "        signals = np.zeros([int(data_size), KERNEL])\n",
        "        inputs = 1e-20*np.random.normal(0, 1, (data_size, 8192))\n",
        "\n",
        "        parameters = {'mass1':[], 'mass2':[], 'distance':[]}\n",
        "        for j in tqdm(range(int(data_size/2))):\n",
        "            m1, m2, distance = np.random.uniform(30, 80, 1), np.random.uniform(30, 80, 1), np.random.uniform(300, 1000, 1)\n",
        "            mass1, mass2 = max(m1, m2), min(m1, m2)\n",
        "            parameters['mass1'].append(mass1[0])\n",
        "            parameters['mass2'].append(mass2[0])\n",
        "            parameters['distance'].append(distance[0])\n",
        "\n",
        "            hp, hc = get_td_waveform(\n",
        "                approximant='IMRPhenomPv2',\n",
        "                mass1=mass1[0],\n",
        "                mass2=mass2[0],\n",
        "                spin1x=0,\n",
        "                spin1y=0,\n",
        "                spin1z=0,\n",
        "                spin2x=0,\n",
        "                spin2y=0,\n",
        "                spin2z=0,\n",
        "                distance=distance,\n",
        "                inclination=0,\n",
        "                coa_phase=0,\n",
        "                f_lower=20,\n",
        "                f_ref=20,\n",
        "                delta_t=1/4096\n",
        "            )\n",
        "            hp_crop = hp.crop(-1 - hp.start_time, hp.end_time - 1)\n",
        "            hp_array = np.array(hp_crop)\n",
        "\n",
        "            signals[j, :] += hp_array\n",
        "\n",
        "        inputs += signals\n",
        "\n",
        "        target = np.r_[\n",
        "            np.repeat(np.array([[1,0]]), int(data_size/2), axis=0),\n",
        "            np.repeat(np.array([[0,1]]), int(data_size/2), axis=0)\n",
        "        ]\n",
        "\n",
        "        strains.append(inputs)\n",
        "        targets.append(target)\n",
        "\n",
        "        #Saving the data\n",
        "        with h5py.File(data_files[idx], 'w') as g1:\n",
        "            g1.create_dataset('Input', data=inputs)\n",
        "            g1.create_dataset('Target', data=target)\n",
        "\n",
        "        with open(f'{DATA_BASE}/{data_set_name[idx]}-parameters.json', 'w') as fp:\n",
        "            json.dump(parameters, fp)\n",
        "\n",
        "        #Plots the data\n",
        "        fig, ax = plt.subplots(nrows=1, ncols=2, figsize = (10, 2), constrained_layout=True)\n",
        "        fig.suptitle(f'{data_set_name[idx]}', fontsize=16)\n",
        "        ax[0].set_title('Noise with injection Label: [1, 0]')\n",
        "        ax[0].plot(time, inputs[0], lw=0.3, label='strain')\n",
        "        ax[0].plot(time, signals[0], lw=0.3, label='injected signal')\n",
        "        ax[0].legend()\n",
        "\n",
        "        ax[1].set_title('Noise without injection Label: [0, 1]')\n",
        "        ax[1].plot(time, inputs[-1], lw=0.3, label='strain')\n",
        "        ax[1].plot(time, signals[-1], lw=0.3, label='injected signal')\n",
        "        ax[1].legend()\n",
        "\n",
        "        plt.show()\n",
        "        plt.close()\n",
        "\n",
        "\n",
        "    else:\n",
        "        with h5py.File(data_files[idx], 'r') as h1:\n",
        "\n",
        "            print(f'Start Loading {data_set_name[idx]} data...')\n",
        "            strains.append(h1['Input'][:])\n",
        "            targets.append(h1['Target'][:])\n",
        "            print(f'{data_set_name[idx]} data Loaded!')"
      ]
    },
    {
      "cell_type": "code",
      "source": [
        "a=strains[0]\n",
        "b = np.fft.fft(a)\n",
        "c = np.mean(np.transpose(b),axis=1)\n",
        "d = np.abs(c)\n",
        "np.shape(d)\n",
        "print(d)\n",
        "plt.plot(d)\n",
        "plt.xlabel('Frequency')\n",
        "plt.ylabel('Magnitude')\n",
        "plt.title('FFT Magnitude Spectrum')\n",
        "plt.show()"
      ],
      "metadata": {
        "colab": {
          "base_uri": "https://localhost:8080/",
          "height": 508
        },
        "id": "620dPNcE5KkP",
        "outputId": "f959efb1-de9f-4ef1-ae60-023a20bf4d74"
      },
      "execution_count": null,
      "outputs": [
        {
          "output_type": "stream",
          "name": "stdout",
          "text": [
            "[2.73063229e-21 6.25910506e-21 6.62402013e-21 ... 1.06346006e-21\n",
            " 6.62402013e-21 6.25910506e-21]\n"
          ]
        },
        {
          "output_type": "display_data",
          "data": {
            "text/plain": [
              "<Figure size 640x480 with 1 Axes>"
            ],
            "image/png": "[encoded data removed]"
          },
          "metadata": {}
        }
      ]
    },
    {
      "cell_type": "code",
      "source": [
        "e = np.fft.ifft(c)\n",
        "plt.plot(e)\n",
        "plt.xlabel('Frequency')\n",
        "plt.ylabel('Magnitude')\n",
        "plt.title('FFT Magnitude Spectrum')\n",
        "plt.show()"
      ],
      "metadata": {
        "colab": {
          "base_uri": "https://localhost:8080/",
          "height": 508
        },
        "id": "tZvC555i5Rdv",
        "outputId": "3e28e347-0e22-488c-93e6-accac3463e38"
      },
      "execution_count": null,
      "outputs": [
        {
          "output_type": "stream",
          "name": "stderr",
          "text": [
            "/usr/local/lib/python3.10/dist-packages/matplotlib/cbook/__init__.py:1335: ComplexWarning: Casting complex values to real discards the imaginary part\n",
            "  return np.asarray(x, float)\n"
          ]
        },
        {
          "output_type": "display_data",
          "data": {
            "text/plain": [
              "<Figure size 640x480 with 1 Axes>"
            ],
            "image/png": "[encoded data removed]"
          },
          "metadata": {}
        }
      ]
    },
    {
      "cell_type": "markdown",
      "metadata": {
        "id": "G_Y-WIZS4SsF"
      },
      "source": [
        "# DataLoader"
      ]
    },
    {
      "cell_type": "code",
      "execution_count": null,
      "metadata": {
        "id": "r1kKu6Pr4SsF"
      },
      "outputs": [],
      "source": [
        "class MyDataset(Dataset):\n",
        "\n",
        "    def __init__(self, data, target, ifos=1, kernel_size=8192):\n",
        "\n",
        "        self.data = torch.FloatTensor(\n",
        "            1e21*data.reshape([-1, ifos, kernel_size])\n",
        "        )\n",
        "\n",
        "        self.targets = torch.LongTensor(target)\n",
        "\n",
        "    def __len__(self):\n",
        "\n",
        "        return len(self.data)\n",
        "\n",
        "    def __getitem__(self, index):\n",
        "        x = self.data[index]\n",
        "        y = self.targets[index]\n",
        "\n",
        "        return x, y"
      ]
    },
    {
      "cell_type": "code",
      "execution_count": null,
      "metadata": {
        "id": "V-HsnMm44SsG"
      },
      "outputs": [],
      "source": [
        "# Load Training data into pytorch tensor\n",
        "dataset = MyDataset(strains[0], targets[0])\n",
        "\n",
        "training_data = DataLoader(\n",
        "    dataset,\n",
        "    batch_size=64,\n",
        "    shuffle=True\n",
        ")\n",
        "\n",
        "# Load Validation data into pytorch tensor\n",
        "dataset_v = MyDataset(strains[1], targets[1])\n",
        "validation_data = DataLoader(\n",
        "    dataset_v,\n",
        "    batch_size=32,\n",
        "    shuffle=True\n",
        ")"
      ]
    },
    {
      "cell_type": "markdown",
      "metadata": {
        "id": "aDoAIYGo4SsG"
      },
      "source": [
        "# Warmup"
      ]
    },
    {
      "cell_type": "code",
      "execution_count": null,
      "metadata": {
        "id": "UvHDwUGZ4SsG",
        "colab": {
          "base_uri": "https://localhost:8080/"
        },
        "outputId": "2cfe67af-721e-40be-dd48-25411d20cb57"
      },
      "outputs": [
        {
          "output_type": "stream",
          "name": "stdout",
          "text": [
            "torch.Size([128, 2, 4096])\n"
          ]
        }
      ],
      "source": [
        "# Input Tensors\n",
        "\n",
        "BATCH_SIZE, CHANNELS, SHAPE = 128, 2, 4096\n",
        "input = torch.randn(BATCH_SIZE, CHANNELS, SHAPE)\n",
        "print(input.shape)"
      ]
    },
    {
      "cell_type": "code",
      "execution_count": null,
      "metadata": {
        "id": "vwTlVNqp4SsH",
        "colab": {
          "base_uri": "https://localhost:8080/"
        },
        "outputId": "62bb9f02-3a17-4232-dd67-b80580151595"
      },
      "outputs": [
        {
          "output_type": "stream",
          "name": "stdout",
          "text": [
            "torch.Size([128, 2, 20])\n",
            "torch.Size([128, 20, 2045])\n",
            "torch.Size([128, 2, 5])\n"
          ]
        }
      ],
      "source": [
        "\n",
        "# Linear\n",
        "linear = nn.Linear(\n",
        "    in_features=SHAPE,\n",
        "    out_features=20)\n",
        "\n",
        "# Conv\n",
        "conv = nn.Conv1d(\n",
        "    in_channels=CHANNELS,\n",
        "    out_channels=20,\n",
        "    kernel_size=8,\n",
        "    stride=2\n",
        ")\n",
        "\n",
        "# AdaptiveAvgPool1d\n",
        "\n",
        "pooling = nn.AdaptiveAvgPool1d(output_size=5)\n",
        "\n",
        "# Get some outputs\n",
        "linear_output = linear(input)\n",
        "conv_output = conv(input)\n",
        "pooling_output = pooling(input)\n",
        "\n",
        "print(linear_output.shape)\n",
        "print(conv_output.shape)\n",
        "print(pooling_output.shape)"
      ]
    },
    {
      "cell_type": "markdown",
      "metadata": {
        "id": "_0Uz0Y2G4SsH"
      },
      "source": [
        "# Build a Model"
      ]
    },
    {
      "cell_type": "code",
      "execution_count": null,
      "metadata": {
        "id": "wn_WTgew4SsI"
      },
      "outputs": [],
      "source": [
        "class MyModel(nn.Module):\n",
        "\n",
        "    def __init__(self,num_ifos: int,):\n",
        "\n",
        "        super(MyModel, self).__init__()\n",
        "\n",
        "        self.conv1 = nn.Conv1d(\n",
        "            in_channels=num_ifos,\n",
        "            out_channels=10,\n",
        "            kernel_size=5,\n",
        "            stride=2,\n",
        "            padding=2)\n",
        "\n",
        "        self.norm1 = nn.BatchNorm1d(num_ifos)\n",
        "        self.norm2 = nn.BatchNorm1d(10)\n",
        "        self.conv2 = nn.Conv1d(10, 20, kernel_size=5, stride=2, padding=2)\n",
        "        self.norm3 = nn.BatchNorm1d(20)\n",
        "        self.conv3 = nn.Conv1d(20, 10, kernel_size=5, stride=2, padding=2)\n",
        "        self.norm4 = nn.BatchNorm1d(10)\n",
        "        self.conv4 = nn.Conv1d(10, 5, kernel_size=5, stride=2, padding=2)\n",
        "        self.conv1_drop = nn.Dropout1d()\n",
        "        self.fc1 = nn.Linear(160, 64)\n",
        "        self.fc2 = nn.Linear(64, 32)\n",
        "        self.fc3 = nn.Linear(32, 2)\n",
        "\n",
        "    def forward(self, x):\n",
        "        x = self.norm1(x)\n",
        "        x = F.mish(F.max_pool1d(self.conv1_drop(self.conv1(x)), 2))\n",
        "        x = self.norm2(x)\n",
        "        x = F.mish(F.max_pool1d(self.conv1_drop(self.conv2(x)), 2))\n",
        "        x = self.norm3(x)\n",
        "        x = F.mish(F.max_pool1d(self.conv1_drop(self.conv3(x)), 2))\n",
        "        x = self.norm4(x)\n",
        "        x = F.mish(F.max_pool1d(self.conv1_drop(self.conv4(x)), 2))\n",
        "        x = torch.flatten(x, 1)\n",
        "        x = F.mish(self.fc1(x))\n",
        "        x = F.mish(self.fc2(x))\n",
        "        x = F.softmax(self.fc3(x), dim = 1)\n",
        "\n",
        "        return x"
      ]
    },
    {
      "cell_type": "code",
      "execution_count": null,
      "metadata": {
        "id": "tVGP9OBQ4SsI",
        "colab": {
          "base_uri": "https://localhost:8080/"
        },
        "outputId": "d6bd4965-0798-49e5-e073-4d218fd02cca"
      },
      "outputs": [
        {
          "output_type": "stream",
          "name": "stdout",
          "text": [
            "----------------------------------------------------------------\n",
            "        Layer (type)               Output Shape         Param #\n",
            "================================================================\n",
            "       BatchNorm1d-1             [128, 1, 8192]               2\n",
            "            Conv1d-2            [128, 10, 4096]              60\n",
            "       BatchNorm1d-3            [128, 10, 2048]              20\n",
            "            Conv1d-4            [128, 20, 1024]           1,020\n",
            "         Dropout1d-5            [128, 20, 1024]               0\n",
            "       BatchNorm1d-6             [128, 20, 512]              40\n",
            "            Conv1d-7             [128, 10, 256]           1,010\n",
            "         Dropout1d-8             [128, 10, 256]               0\n",
            "       BatchNorm1d-9             [128, 10, 128]              20\n",
            "           Conv1d-10               [128, 5, 64]             255\n",
            "        Dropout1d-11               [128, 5, 64]               0\n",
            "           Linear-12                  [128, 64]          10,304\n",
            "           Linear-13                  [128, 32]           2,080\n",
            "           Linear-14                   [128, 2]              66\n",
            "================================================================\n",
            "Total params: 14,877\n",
            "Trainable params: 14,877\n",
            "Non-trainable params: 0\n",
            "----------------------------------------------------------------\n",
            "Input size (MB): 4.00\n",
            "Forward/backward pass size (MB): 124.97\n",
            "Params size (MB): 0.06\n",
            "Estimated Total Size (MB): 129.03\n",
            "----------------------------------------------------------------\n"
          ]
        }
      ],
      "source": [
        "Kate_Moss = MyModel(num_ifos=IFOS)\n",
        "summary(Kate_Moss, (IFOS, KERNEL), 128, 'cpu')"
      ]
    },
    {
      "cell_type": "markdown",
      "metadata": {
        "id": "UrPBzNBC4SsI"
      },
      "source": [
        "# Training"
      ]
    },
    {
      "cell_type": "code",
      "execution_count": null,
      "metadata": {
        "id": "nKCGDShj4SsI",
        "colab": {
          "base_uri": "https://localhost:8080/",
          "height": 1000
        },
        "outputId": "4d141d0a-8e43-4df4-91a8-b6b2ff966a57"
      },
      "outputs": [
        {
          "output_type": "stream",
          "name": "stderr",
          "text": [
            "Epoch 1: 100%|██████████| 79/79 [00:00<00:00, 96.30it/s]\n"
          ]
        },
        {
          "output_type": "stream",
          "name": "stdout",
          "text": [
            "========\n",
            "Cost0.69\n",
            "======== \n",
            "\n",
            "===================\n",
            "Validation Cost0.69\n",
            "=================== \n",
            "\n"
          ]
        },
        {
          "output_type": "stream",
          "name": "stderr",
          "text": [
            "Epoch 2: 100%|██████████| 79/79 [00:00<00:00, 121.21it/s]\n"
          ]
        },
        {
          "output_type": "stream",
          "name": "stdout",
          "text": [
            "========\n",
            "Cost0.69\n",
            "======== \n",
            "\n",
            "===================\n",
            "Validation Cost0.69\n",
            "=================== \n",
            "\n"
          ]
        },
        {
          "output_type": "stream",
          "name": "stderr",
          "text": [
            "Epoch 3: 100%|██████████| 79/79 [00:00<00:00, 160.98it/s]\n"
          ]
        },
        {
          "output_type": "stream",
          "name": "stdout",
          "text": [
            "========\n",
            "Cost0.69\n",
            "======== \n",
            "\n",
            "===================\n",
            "Validation Cost0.7\n",
            "=================== \n",
            "\n"
          ]
        },
        {
          "output_type": "stream",
          "name": "stderr",
          "text": [
            "Epoch 4: 100%|██████████| 79/79 [00:00<00:00, 159.24it/s]\n"
          ]
        },
        {
          "output_type": "stream",
          "name": "stdout",
          "text": [
            "========\n",
            "Cost0.69\n",
            "======== \n",
            "\n",
            "===================\n",
            "Validation Cost0.69\n",
            "=================== \n",
            "\n"
          ]
        },
        {
          "output_type": "stream",
          "name": "stderr",
          "text": [
            "Epoch 5: 100%|██████████| 79/79 [00:00<00:00, 160.31it/s]\n"
          ]
        },
        {
          "output_type": "stream",
          "name": "stdout",
          "text": [
            "========\n",
            "Cost0.69\n",
            "======== \n",
            "\n",
            "===================\n",
            "Validation Cost0.69\n",
            "=================== \n",
            "\n"
          ]
        },
        {
          "output_type": "stream",
          "name": "stderr",
          "text": [
            "Epoch 6: 100%|██████████| 79/79 [00:00<00:00, 157.68it/s]\n"
          ]
        },
        {
          "output_type": "stream",
          "name": "stdout",
          "text": [
            "========\n",
            "Cost0.69\n",
            "======== \n",
            "\n",
            "===================\n",
            "Validation Cost0.69\n",
            "=================== \n",
            "\n"
          ]
        },
        {
          "output_type": "stream",
          "name": "stderr",
          "text": [
            "Epoch 7: 100%|██████████| 79/79 [00:00<00:00, 131.89it/s]\n"
          ]
        },
        {
          "output_type": "stream",
          "name": "stdout",
          "text": [
            "========\n",
            "Cost0.69\n",
            "======== \n",
            "\n",
            "===================\n",
            "Validation Cost0.69\n",
            "=================== \n",
            "\n"
          ]
        },
        {
          "output_type": "stream",
          "name": "stderr",
          "text": [
            "Epoch 8: 100%|██████████| 79/79 [00:00<00:00, 132.20it/s]\n"
          ]
        },
        {
          "output_type": "stream",
          "name": "stdout",
          "text": [
            "========\n",
            "Cost0.69\n",
            "======== \n",
            "\n",
            "===================\n",
            "Validation Cost0.69\n",
            "=================== \n",
            "\n"
          ]
        },
        {
          "output_type": "stream",
          "name": "stderr",
          "text": [
            "Epoch 9: 100%|██████████| 79/79 [00:00<00:00, 139.94it/s]\n"
          ]
        },
        {
          "output_type": "stream",
          "name": "stdout",
          "text": [
            "========\n",
            "Cost0.69\n",
            "======== \n",
            "\n",
            "===================\n",
            "Validation Cost0.69\n",
            "=================== \n",
            "\n"
          ]
        },
        {
          "output_type": "stream",
          "name": "stderr",
          "text": [
            "Epoch 10: 100%|██████████| 79/79 [00:00<00:00, 126.82it/s]\n"
          ]
        },
        {
          "output_type": "stream",
          "name": "stdout",
          "text": [
            "========\n",
            "Cost0.69\n",
            "======== \n",
            "\n",
            "===================\n",
            "Validation Cost0.69\n",
            "=================== \n",
            "\n"
          ]
        },
        {
          "output_type": "stream",
          "name": "stderr",
          "text": [
            "Epoch 11: 100%|██████████| 79/79 [00:00<00:00, 160.80it/s]\n"
          ]
        },
        {
          "output_type": "stream",
          "name": "stdout",
          "text": [
            "========\n",
            "Cost0.69\n",
            "======== \n",
            "\n",
            "===================\n",
            "Validation Cost0.69\n",
            "=================== \n",
            "\n"
          ]
        },
        {
          "output_type": "stream",
          "name": "stderr",
          "text": [
            "Epoch 12: 100%|██████████| 79/79 [00:00<00:00, 158.34it/s]\n"
          ]
        },
        {
          "output_type": "stream",
          "name": "stdout",
          "text": [
            "========\n",
            "Cost0.69\n",
            "======== \n",
            "\n",
            "===================\n",
            "Validation Cost0.69\n",
            "=================== \n",
            "\n"
          ]
        },
        {
          "output_type": "stream",
          "name": "stderr",
          "text": [
            "Epoch 13: 100%|██████████| 79/79 [00:00<00:00, 156.78it/s]\n"
          ]
        },
        {
          "output_type": "stream",
          "name": "stdout",
          "text": [
            "========\n",
            "Cost0.69\n",
            "======== \n",
            "\n",
            "===================\n",
            "Validation Cost0.69\n",
            "=================== \n",
            "\n"
          ]
        },
        {
          "output_type": "stream",
          "name": "stderr",
          "text": [
            "Epoch 14: 100%|██████████| 79/79 [00:00<00:00, 155.72it/s]\n"
          ]
        },
        {
          "output_type": "stream",
          "name": "stdout",
          "text": [
            "========\n",
            "Cost0.69\n",
            "======== \n",
            "\n",
            "===================\n",
            "Validation Cost0.69\n",
            "=================== \n",
            "\n"
          ]
        },
        {
          "output_type": "stream",
          "name": "stderr",
          "text": [
            "Epoch 15: 100%|██████████| 79/79 [00:00<00:00, 160.90it/s]\n"
          ]
        },
        {
          "output_type": "stream",
          "name": "stdout",
          "text": [
            "========\n",
            "Cost0.69\n",
            "======== \n",
            "\n",
            "===================\n",
            "Validation Cost0.69\n",
            "=================== \n",
            "\n"
          ]
        },
        {
          "output_type": "stream",
          "name": "stderr",
          "text": [
            "Epoch 16: 100%|██████████| 79/79 [00:00<00:00, 159.93it/s]\n"
          ]
        },
        {
          "output_type": "stream",
          "name": "stdout",
          "text": [
            "========\n",
            "Cost0.69\n",
            "======== \n",
            "\n",
            "===================\n",
            "Validation Cost0.69\n",
            "=================== \n",
            "\n"
          ]
        },
        {
          "output_type": "stream",
          "name": "stderr",
          "text": [
            "Epoch 17: 100%|██████████| 79/79 [00:00<00:00, 157.95it/s]\n"
          ]
        },
        {
          "output_type": "stream",
          "name": "stdout",
          "text": [
            "========\n",
            "Cost0.69\n",
            "======== \n",
            "\n",
            "===================\n",
            "Validation Cost0.69\n",
            "=================== \n",
            "\n"
          ]
        },
        {
          "output_type": "stream",
          "name": "stderr",
          "text": [
            "Epoch 18: 100%|██████████| 79/79 [00:00<00:00, 158.90it/s]\n"
          ]
        },
        {
          "output_type": "stream",
          "name": "stdout",
          "text": [
            "========\n",
            "Cost0.69\n",
            "======== \n",
            "\n",
            "===================\n",
            "Validation Cost0.69\n",
            "=================== \n",
            "\n"
          ]
        },
        {
          "output_type": "stream",
          "name": "stderr",
          "text": [
            "Epoch 19: 100%|██████████| 79/79 [00:00<00:00, 158.52it/s]\n"
          ]
        },
        {
          "output_type": "stream",
          "name": "stdout",
          "text": [
            "========\n",
            "Cost0.69\n",
            "======== \n",
            "\n",
            "===================\n",
            "Validation Cost0.69\n",
            "=================== \n",
            "\n"
          ]
        },
        {
          "output_type": "stream",
          "name": "stderr",
          "text": [
            "Epoch 20: 100%|██████████| 79/79 [00:00<00:00, 160.55it/s]\n"
          ]
        },
        {
          "output_type": "stream",
          "name": "stdout",
          "text": [
            "========\n",
            "Cost0.69\n",
            "======== \n",
            "\n",
            "===================\n",
            "Validation Cost0.69\n",
            "=================== \n",
            "\n"
          ]
        },
        {
          "output_type": "stream",
          "name": "stderr",
          "text": [
            "Epoch 21:  57%|█████▋    | 45/79 [00:00<00:00, 152.57it/s]\n"
          ]
        },
        {
          "output_type": "error",
          "ename": "KeyboardInterrupt",
          "evalue": "",
          "traceback": [
            "\u001b[0;31m---------------------------------------------------------------------------\u001b[0m",
            "\u001b[0;31mKeyboardInterrupt\u001b[0m                         Traceback (most recent call last)",
            "\u001b[0;32m<ipython-input-109-629eadb2ba64>\u001b[0m in \u001b[0;36m<cell line: 16>\u001b[0;34m()\u001b[0m\n\u001b[1;32m     24\u001b[0m \u001b[0;34m\u001b[0m\u001b[0m\n\u001b[1;32m     25\u001b[0m         \u001b[0mopt\u001b[0m\u001b[0;34m.\u001b[0m\u001b[0mzero_grad\u001b[0m\u001b[0;34m(\u001b[0m\u001b[0;34m)\u001b[0m\u001b[0;34m\u001b[0m\u001b[0;34m\u001b[0m\u001b[0m\n\u001b[0;32m---> 26\u001b[0;31m         \u001b[0mcost\u001b[0m\u001b[0;34m.\u001b[0m\u001b[0mbackward\u001b[0m\u001b[0;34m(\u001b[0m\u001b[0;34m)\u001b[0m\u001b[0;34m\u001b[0m\u001b[0;34m\u001b[0m\u001b[0m\n\u001b[0m\u001b[1;32m     27\u001b[0m         \u001b[0mopt\u001b[0m\u001b[0;34m.\u001b[0m\u001b[0mstep\u001b[0m\u001b[0;34m(\u001b[0m\u001b[0;34m)\u001b[0m\u001b[0;34m\u001b[0m\u001b[0;34m\u001b[0m\u001b[0m\n\u001b[1;32m     28\u001b[0m \u001b[0;34m\u001b[0m\u001b[0m\n",
            "\u001b[0;32m/usr/local/lib/python3.10/dist-packages/torch/_tensor.py\u001b[0m in \u001b[0;36mbackward\u001b[0;34m(self, gradient, retain_graph, create_graph, inputs)\u001b[0m\n\u001b[1;32m    520\u001b[0m                 \u001b[0minputs\u001b[0m\u001b[0;34m=\u001b[0m\u001b[0minputs\u001b[0m\u001b[0;34m,\u001b[0m\u001b[0;34m\u001b[0m\u001b[0;34m\u001b[0m\u001b[0m\n\u001b[1;32m    521\u001b[0m             )\n\u001b[0;32m--> 522\u001b[0;31m         torch.autograd.backward(\n\u001b[0m\u001b[1;32m    523\u001b[0m             \u001b[0mself\u001b[0m\u001b[0;34m,\u001b[0m \u001b[0mgradient\u001b[0m\u001b[0;34m,\u001b[0m \u001b[0mretain_graph\u001b[0m\u001b[0;34m,\u001b[0m \u001b[0mcreate_graph\u001b[0m\u001b[0;34m,\u001b[0m \u001b[0minputs\u001b[0m\u001b[0;34m=\u001b[0m\u001b[0minputs\u001b[0m\u001b[0;34m\u001b[0m\u001b[0;34m\u001b[0m\u001b[0m\n\u001b[1;32m    524\u001b[0m         )\n",
            "\u001b[0;32m/usr/local/lib/python3.10/dist-packages/torch/autograd/__init__.py\u001b[0m in \u001b[0;36mbackward\u001b[0;34m(tensors, grad_tensors, retain_graph, create_graph, grad_variables, inputs)\u001b[0m\n\u001b[1;32m    264\u001b[0m     \u001b[0;31m# some Python versions print out the first line of a multi-line function\u001b[0m\u001b[0;34m\u001b[0m\u001b[0;34m\u001b[0m\u001b[0m\n\u001b[1;32m    265\u001b[0m     \u001b[0;31m# calls in the traceback and some print out the last line\u001b[0m\u001b[0;34m\u001b[0m\u001b[0;34m\u001b[0m\u001b[0m\n\u001b[0;32m--> 266\u001b[0;31m     Variable._execution_engine.run_backward(  # Calls into the C++ engine to run the backward pass\n\u001b[0m\u001b[1;32m    267\u001b[0m         \u001b[0mtensors\u001b[0m\u001b[0;34m,\u001b[0m\u001b[0;34m\u001b[0m\u001b[0;34m\u001b[0m\u001b[0m\n\u001b[1;32m    268\u001b[0m         \u001b[0mgrad_tensors_\u001b[0m\u001b[0;34m,\u001b[0m\u001b[0;34m\u001b[0m\u001b[0;34m\u001b[0m\u001b[0m\n",
            "\u001b[0;31mKeyboardInterrupt\u001b[0m: "
          ]
        }
      ],
      "source": [
        "device = torch.device(\"cuda\")\n",
        "model = MyModel(num_ifos=IFOS).to(device)\n",
        "epochs = 60\n",
        "learning_rate = 0.001\n",
        "criterion = nn.CrossEntropyLoss()\n",
        "\n",
        "opt = torch.optim.Adam(\n",
        "    model.parameters(),\n",
        "    lr=learning_rate,\n",
        "    weight_decay=1e-4\n",
        ")\n",
        "\n",
        "cost_value = np.empty(epochs)\n",
        "cost_valid_value = np.empty(epochs)\n",
        "\n",
        "for i in range(epochs):\n",
        "    t_cost = 0\n",
        "    for j, (x, y) in enumerate(tqdm(training_data, desc=f'Epoch {i+1}')):\n",
        "        x = x.to(device)\n",
        "        y = y.to(device)\n",
        "\n",
        "        p_value = model(x)\n",
        "        cost = criterion(p_value, torch.argmax(y, dim = 1))\n",
        "\n",
        "        opt.zero_grad()\n",
        "        cost.backward()\n",
        "        opt.step()\n",
        "\n",
        "        t_cost += cost.item()\n",
        "\n",
        "    cost_value[i] = t_cost/(j+1)\n",
        "\n",
        "    print('========')\n",
        "    print(f'Cost{round(cost_value[i], 2)}')\n",
        "    print('========', '\\n')\n",
        "\n",
        "    with torch.no_grad():\n",
        "        v_cost = 0\n",
        "        for run, (a, b) in enumerate(validation_data):\n",
        "            a = a.to(device)\n",
        "            b = b.to(device)\n",
        "\n",
        "            p_value = model(a)\n",
        "            cost_valid = criterion(p_value, torch.argmax(b, dim = 1))\n",
        "\n",
        "            v_cost += cost_valid.item()\n",
        "\n",
        "        cost_valid_value[i] = v_cost/(run+1)\n",
        "\n",
        "        print('===================')\n",
        "        print(f'Validation Cost{round(cost_valid_value[i], 2)}')\n",
        "        print('===================', '\\n')"
      ]
    },
    {
      "cell_type": "markdown",
      "metadata": {
        "id": "GmBrfV0H4SsJ"
      },
      "source": [
        "# Plots"
      ]
    },
    {
      "cell_type": "code",
      "execution_count": null,
      "metadata": {
        "id": "nTE47ZmL4SsJ",
        "colab": {
          "base_uri": "https://localhost:8080/",
          "height": 472
        },
        "outputId": "ee06f305-c2c6-4dea-d80f-f5c4aefcfe95"
      },
      "outputs": [
        {
          "output_type": "display_data",
          "data": {
            "text/plain": [
              "<Figure size 640x480 with 1 Axes>"
            ],
            "image/png": "[encoded data removed]"
          },
          "metadata": {}
        }
      ],
      "source": [
        "total_epoch = np.linspace(1, epochs, epochs)\n",
        "plt.title('Loss value to epoch')\n",
        "plt.plot(total_epoch, cost_value, label = 'Training Set')\n",
        "plt.plot(total_epoch, cost_valid_value, label = 'Validation Set')\n",
        "plt.xlabel('Epoch')\n",
        "plt.ylabel('Loss Value')\n",
        "plt.legend()\n",
        "plt.savefig(f'{OUT_BASE}/Loss.png', bbox_inches = 'tight')\n",
        "plt.show()\n",
        "plt.close()"
      ]
    },
    {
      "cell_type": "code",
      "execution_count": null,
      "metadata": {
        "id": "P18pmlCN4SsK"
      },
      "outputs": [],
      "source": [
        "device = 'cpu'\n",
        "classifier = model.to(device)\n",
        "torch.save(classifier, f'{OUT_BASE}/model.pt')"
      ]
    },
    {
      "cell_type": "markdown",
      "metadata": {
        "id": "NVCSwrgK4SsK"
      },
      "source": [
        "# Test"
      ]
    },
    {
      "cell_type": "code",
      "execution_count": null,
      "metadata": {
        "id": "jWAz4nLd4SsJ",
        "colab": {
          "base_uri": "https://localhost:8080/",
          "height": 211
        },
        "outputId": "d924cc9f-d329-4ef0-eaf6-8bf68b552916"
      },
      "outputs": [
        {
          "output_type": "error",
          "ename": "NameError",
          "evalue": "name 'torch' is not defined",
          "traceback": [
            "\u001b[0;31m---------------------------------------------------------------------------\u001b[0m",
            "\u001b[0;31mNameError\u001b[0m                                 Traceback (most recent call last)",
            "\u001b[0;32m<ipython-input-1-ab97f3dce31b>\u001b[0m in \u001b[0;36m<cell line: 2>\u001b[0;34m()\u001b[0m\n\u001b[1;32m      1\u001b[0m \u001b[0mdevice\u001b[0m \u001b[0;34m=\u001b[0m \u001b[0;34m'cpu'\u001b[0m\u001b[0;34m\u001b[0m\u001b[0;34m\u001b[0m\u001b[0m\n\u001b[0;32m----> 2\u001b[0;31m \u001b[0mmetrix\u001b[0m \u001b[0;34m=\u001b[0m \u001b[0mtorch\u001b[0m\u001b[0;34m.\u001b[0m\u001b[0mzeros\u001b[0m\u001b[0;34m(\u001b[0m\u001b[0;34m[\u001b[0m\u001b[0;36m2\u001b[0m\u001b[0;34m,\u001b[0m\u001b[0;36m2\u001b[0m\u001b[0;34m]\u001b[0m\u001b[0;34m)\u001b[0m\u001b[0;34m.\u001b[0m\u001b[0mto\u001b[0m\u001b[0;34m(\u001b[0m\u001b[0mdevice\u001b[0m\u001b[0;34m)\u001b[0m\u001b[0;34m\u001b[0m\u001b[0;34m\u001b[0m\u001b[0m\n\u001b[0m\u001b[1;32m      3\u001b[0m \u001b[0mnum_count\u001b[0m \u001b[0;34m=\u001b[0m \u001b[0mtorch\u001b[0m\u001b[0;34m.\u001b[0m\u001b[0mzeros\u001b[0m\u001b[0;34m(\u001b[0m\u001b[0;34m[\u001b[0m\u001b[0;36m2\u001b[0m\u001b[0;34m]\u001b[0m\u001b[0;34m)\u001b[0m\u001b[0;34m.\u001b[0m\u001b[0mto\u001b[0m\u001b[0;34m(\u001b[0m\u001b[0mdevice\u001b[0m\u001b[0;34m)\u001b[0m\u001b[0;34m\u001b[0m\u001b[0;34m\u001b[0m\u001b[0m\n\u001b[1;32m      4\u001b[0m \u001b[0mdtype\u001b[0m \u001b[0;34m=\u001b[0m \u001b[0mtorch\u001b[0m\u001b[0;34m.\u001b[0m\u001b[0mFloatTensor\u001b[0m\u001b[0;34m\u001b[0m\u001b[0;34m\u001b[0m\u001b[0m\n\u001b[1;32m      5\u001b[0m \u001b[0;34m\u001b[0m\u001b[0m\n",
            "\u001b[0;31mNameError\u001b[0m: name 'torch' is not defined"
          ]
        }
      ],
      "source": [
        "device = 'cpu'\n",
        "metrix = torch.zeros([2,2]).to(device)\n",
        "num_count = torch.zeros([2]).to(device)\n",
        "dtype = torch.FloatTensor\n",
        "\n",
        "with torch.no_grad():\n",
        "    for num, (x, y) in enumerate(tqdm(training_data)):\n",
        "\n",
        "        Real_label = y.to(device)\n",
        "\n",
        "        # Convert sofmax output to onehot\n",
        "        max_class = torch.Tensor.argmax(model(x.to(device)), axis=1)\n",
        "        pred = F.one_hot(max_class)\n",
        "\n",
        "        # Accumlating statical value\n",
        "        metrix += torch.matmul(pred.T.type(dtype), Real_label.type(dtype))\n",
        "        num_count += Real_label.sum(axis=0)\n",
        "\n",
        "    num_count = num_count.detach().cpu().numpy().astype('float64')\n",
        "    metrix = metrix.detach().cpu().numpy().astype('float64')\n",
        "\n",
        "\n",
        "# Normalizing confusion matrix\n",
        "metrix /= num_count\n",
        "\n",
        "# Plotting Scheme\n",
        "TPR = (metrix[0,0] + metrix[1,1])/2\n",
        "FAR = 1 - TPR\n",
        "\n",
        "print(f'TPR: {TPR}')\n",
        "print(f'FAR: {FAR}')\n",
        "\n",
        "lab = np.array([['True P', 'False P'], ['False N', 'True N']])\n",
        "plt.figure()\n",
        "color = plt.pcolormesh([metrix[1], metrix[0]], cmap = 'Wistia', vmin=0, vmax=1)\n",
        "for i in range(2):\n",
        "    for j in range(2):\n",
        "\n",
        "        plt.text(i+.5, j+.5,\n",
        "                 f'{lab[1-j,i]}\\n{round(metrix[1-j,i],3)}',\n",
        "                 ha = 'center',\n",
        "                 va = 'center')\n",
        "\n",
        "plt.xticks([.5, 1.5], ['Injection', 'Noise'])\n",
        "plt.yticks([.5, 1.5], ['Noise', 'Injection'], rotation=45)\n",
        "plt.xlabel('Real Value')\n",
        "plt.ylabel('Predict', rotation=0)\n",
        "plt.title(\n",
        "    f'Training set with:     TPR: {TPR}FAR: {FAR}'\n",
        ")\n",
        "plt.colorbar(color)\n",
        "plt.savefig(f'{OUT_BASE}/Training_set_performance.png', bbox_inches = 'tight')\n",
        "plt.show()\n",
        "plt.close()"
      ]
    },
    {
      "cell_type": "code",
      "execution_count": null,
      "metadata": {
        "id": "vWAEJyCe4SsJ",
        "colab": {
          "base_uri": "https://localhost:8080/",
          "height": 234
        },
        "outputId": "08870d62-f010-41b4-d617-1278b9a627c7"
      },
      "outputs": [
        {
          "output_type": "stream",
          "name": "stderr",
          "text": [
            "  0%|          | 0/32 [00:00<?, ?it/s]\n"
          ]
        },
        {
          "output_type": "error",
          "ename": "RuntimeError",
          "evalue": "Expected all tensors to be on the same device, but found at least two devices, cuda:0 and cpu!",
          "traceback": [
            "\u001b[0;31m---------------------------------------------------------------------------\u001b[0m",
            "\u001b[0;31mRuntimeError\u001b[0m                              Traceback (most recent call last)",
            "\u001b[0;32m<ipython-input-59-f0485d17c78d>\u001b[0m in \u001b[0;36m<cell line: 5>\u001b[0;34m()\u001b[0m\n\u001b[1;32m     13\u001b[0m \u001b[0;34m\u001b[0m\u001b[0m\n\u001b[1;32m     14\u001b[0m         \u001b[0;31m# Accumlating statical value\u001b[0m\u001b[0;34m\u001b[0m\u001b[0;34m\u001b[0m\u001b[0m\n\u001b[0;32m---> 15\u001b[0;31m         \u001b[0mmetrix\u001b[0m \u001b[0;34m+=\u001b[0m \u001b[0mtorch\u001b[0m\u001b[0;34m.\u001b[0m\u001b[0mmatmul\u001b[0m\u001b[0;34m(\u001b[0m\u001b[0mpred\u001b[0m\u001b[0;34m.\u001b[0m\u001b[0mT\u001b[0m\u001b[0;34m.\u001b[0m\u001b[0mtype\u001b[0m\u001b[0;34m(\u001b[0m\u001b[0mdtype\u001b[0m\u001b[0;34m)\u001b[0m\u001b[0;34m,\u001b[0m \u001b[0mReal_label\u001b[0m\u001b[0;34m.\u001b[0m\u001b[0mtype\u001b[0m\u001b[0;34m(\u001b[0m\u001b[0mdtype\u001b[0m\u001b[0;34m)\u001b[0m\u001b[0;34m)\u001b[0m\u001b[0;34m\u001b[0m\u001b[0;34m\u001b[0m\u001b[0m\n\u001b[0m\u001b[1;32m     16\u001b[0m         \u001b[0mnum_count\u001b[0m \u001b[0;34m+=\u001b[0m \u001b[0mReal_label\u001b[0m\u001b[0;34m.\u001b[0m\u001b[0msum\u001b[0m\u001b[0;34m(\u001b[0m\u001b[0maxis\u001b[0m\u001b[0;34m=\u001b[0m\u001b[0;36m0\u001b[0m\u001b[0;34m)\u001b[0m\u001b[0;34m\u001b[0m\u001b[0;34m\u001b[0m\u001b[0m\n\u001b[1;32m     17\u001b[0m \u001b[0;34m\u001b[0m\u001b[0m\n",
            "\u001b[0;31mRuntimeError\u001b[0m: Expected all tensors to be on the same device, but found at least two devices, cuda:0 and cpu!"
          ]
        }
      ],
      "source": [
        "metrix = torch.zeros([2,2]).to(device)\n",
        "num_count = torch.zeros([2]).to(device)\n",
        "dtype = torch.FloatTensor\n",
        "\n",
        "with torch.no_grad():\n",
        "    for num, (x, y) in enumerate(tqdm(validation_data)):\n",
        "\n",
        "        Real_label = y.to(device)\n",
        "\n",
        "        # Convert sofmax output to onehot\n",
        "        max_class = torch.Tensor.argmax(model(x.to(device)), axis=1)\n",
        "        pred = F.one_hot(max_class)\n",
        "\n",
        "        # Accumlating statical value\n",
        "        metrix += torch.matmul(pred.T.type(dtype), Real_label.type(dtype))\n",
        "        num_count += Real_label.sum(axis=0)\n",
        "\n",
        "    num_count = num_count.detach().cpu().numpy().astype('float64')\n",
        "    metrix = metrix.detach().cpu().numpy().astype('float64')\n",
        "\n",
        "\n",
        "# Normalizing confusion matrix\n",
        "metrix /= num_count\n",
        "\n",
        "# Plotting Scheme\n",
        "TPR = metrix[0,0]\n",
        "FAR = metrix[0,1]/(metrix[0,0] + metrix[0,1])\n",
        "\n",
        "\n",
        "print(f'TPR: {TPR}')\n",
        "print(f'FAR: {FAR}')\n",
        "\n",
        "lab = np.array([['True P', 'False P'], ['False N', 'True N']])\n",
        "plt.figure()\n",
        "color = plt.pcolormesh([metrix[1], metrix[0]], cmap = 'Wistia', vmin=0, vmax=1)\n",
        "for i in range(2):\n",
        "    for j in range(2):\n",
        "\n",
        "        plt.text(i+.5, j+.5,\n",
        "                 f'{lab[1-j,i]}\\n{round(metrix[1-j,i],3)}',\n",
        "                 ha = 'center',\n",
        "                 va = 'center')\n",
        "\n",
        "plt.xticks([.5, 1.5], ['Injection', 'Noise'])\n",
        "plt.yticks([.5, 1.5], ['Noise', 'Injection'], rotation=45)\n",
        "plt.xlabel('Real Value')\n",
        "plt.ylabel('Predict', rotation=0)\n",
        "plt.title(\n",
        "    f'Validation set with:   TPR: {round(metrix[0, 0], 3)} FAR: {round(FAR, 3)}'\n",
        ")\n",
        "plt.colorbar(color)\n",
        "plt.savefig(f'{OUT_BASE}/Validation_set_performance.png', bbox_inches = 'tight')\n",
        "plt.show()\n",
        "plt.close()"
      ]
    },
    {
      "cell_type": "markdown",
      "metadata": {
        "id": "G1dF_nuq4SsK"
      },
      "source": [
        "# Save"
      ]
    },
    {
      "cell_type": "code",
      "execution_count": null,
      "metadata": {
        "id": "u35MFFTn4SsK",
        "colab": {
          "base_uri": "https://localhost:8080/"
        },
        "outputId": "4f244381-8db9-4f18-ff82-4b8081af8d74"
      },
      "outputs": [
        {
          "output_type": "execute_result",
          "data": {
            "text/plain": [
              "MyModel(\n",
              "  (conv1): Conv1d(1, 10, kernel_size=(5,), stride=(2,), padding=(2,))\n",
              "  (norm1): BatchNorm1d(1, eps=1e-05, momentum=0.1, affine=True, track_running_stats=True)\n",
              "  (norm2): BatchNorm1d(10, eps=1e-05, momentum=0.1, affine=True, track_running_stats=True)\n",
              "  (conv2): Conv1d(10, 20, kernel_size=(5,), stride=(2,), padding=(2,))\n",
              "  (norm3): BatchNorm1d(20, eps=1e-05, momentum=0.1, affine=True, track_running_stats=True)\n",
              "  (conv3): Conv1d(20, 10, kernel_size=(5,), stride=(2,), padding=(2,))\n",
              "  (norm4): BatchNorm1d(10, eps=1e-05, momentum=0.1, affine=True, track_running_stats=True)\n",
              "  (conv4): Conv1d(10, 5, kernel_size=(5,), stride=(2,), padding=(2,))\n",
              "  (conv1_drop): Dropout1d(p=0.5, inplace=False)\n",
              "  (fc1): Linear(in_features=160, out_features=32, bias=True)\n",
              "  (fc2): Linear(in_features=32, out_features=2, bias=True)\n",
              ")"
            ]
          },
          "metadata": {},
          "execution_count": 25
        }
      ],
      "source": [
        "Kate_Moss = MyModel(num_ifos = IFOS)\n",
        "Kate_Moss = torch.load(f'{OUT_BASE}/model.pt')\n",
        "Kate_Moss.eval()\n",
        "Kate_Moss.to(device)"
      ]
    },
    {
      "cell_type": "code",
      "execution_count": null,
      "metadata": {
        "id": "lVm4ytxf4SsL"
      },
      "outputs": [],
      "source": [
        "dataset_t = MyDataset(strains[1], targets[1])\n",
        "test_data = DataLoader(\n",
        "    dataset_t,\n",
        "    batch_size=32,\n",
        "    shuffle=True\n",
        ")"
      ]
    },
    {
      "cell_type": "code",
      "execution_count": null,
      "metadata": {
        "id": "GW5FXNbV4SsL",
        "colab": {
          "base_uri": "https://localhost:8080/",
          "height": 526
        },
        "outputId": "daae4665-32c7-4d5e-f222-9e4b9be3bf44"
      },
      "outputs": [
        {
          "output_type": "stream",
          "name": "stderr",
          "text": [
            "100%|██████████| 79/79 [00:03<00:00, 26.21it/s]\n"
          ]
        },
        {
          "output_type": "stream",
          "name": "stdout",
          "text": [
            "TPR: 0.888\n",
            "FAR: 0.034782608695652174\n"
          ]
        },
        {
          "output_type": "display_data",
          "data": {
            "text/plain": [
              "<Figure size 640x480 with 2 Axes>"
            ],
            "image/png": "[encoded data removed]"
          },
          "metadata": {}
        }
      ],
      "source": [
        "device = 'cpu'\n",
        "\n",
        "metrix = torch.zeros([2,2]).to(device)\n",
        "num_count = torch.zeros([2]).to(device)\n",
        "dtype = torch.FloatTensor\n",
        "\n",
        "with torch.no_grad():\n",
        "    for num, (x, y) in enumerate(tqdm(test_data)):\n",
        "\n",
        "        Real_label = y.to(device)\n",
        "\n",
        "        # Convert sofmax output to onehot\n",
        "        max_class = torch.Tensor.argmax(model(x.to(device)), axis=1)\n",
        "        pred = F.one_hot(max_class)\n",
        "\n",
        "        # Accumlating statical value\n",
        "        metrix += torch.matmul(pred.T.type(dtype), Real_label.type(dtype))\n",
        "        num_count += Real_label.sum(axis=0)\n",
        "\n",
        "    num_count = num_count.detach().cpu().numpy().astype('float64')\n",
        "    metrix = metrix.detach().cpu().numpy().astype('float64')\n",
        "\n",
        "\n",
        "# Normalizing confusion matrix\n",
        "metrix /= num_count\n",
        "\n",
        "# Plotting Scheme\n",
        "TPR = metrix[0,0]\n",
        "FAR = metrix[0,1]/(metrix[0,0] + metrix[0,1])\n",
        "\n",
        "print(f'TPR: {TPR}')\n",
        "print(f'FAR: {FAR}')\n",
        "\n",
        "lab = np.array([['True P', 'False P'], ['False N', 'True N']])\n",
        "plt.figure()\n",
        "color = plt.pcolormesh([metrix[1], metrix[0]], cmap = 'Wistia', vmin=0, vmax=1)\n",
        "for i in range(2):\n",
        "    for j in range(2):\n",
        "\n",
        "        plt.text(i+.5, j+.5,\n",
        "                 f'{lab[1-j,i]}\\n{round(metrix[1-j,i],3)}',\n",
        "                 ha = 'center',\n",
        "                 va = 'center')\n",
        "\n",
        "plt.xticks([.5, 1.5], ['Injection', 'Noise'])\n",
        "plt.yticks([.5, 1.5], ['Noise', 'Injection'], rotation=45)\n",
        "plt.xlabel('Real Value')\n",
        "plt.ylabel('Predict', rotation=0)\n",
        "plt.title(\n",
        "    f'Test set with:   TPR: {round(metrix[0, 0], 3)} FAR: {round(FAR, 3)}'\n",
        ")\n",
        "plt.colorbar(color)\n",
        "plt.savefig(f'{OUT_BASE}/Test_set_performance.png', bbox_inches = 'tight')\n",
        "plt.show()\n",
        "plt.close()"
      ]
    }
  ],
  "metadata": {
    "accelerator": "GPU",
    "colab": {
      "provenance": [],
      "gpuType": "T4"
    },
    "kernelspec": {
      "display_name": "Python 3",
      "name": "python3"
    },
    "language_info": {
      "codemirror_mode": {
        "name": "ipython",
        "version": 3
      },
      "file_extension": ".py",
      "mimetype": "text/x-python",
      "name": "python",
      "nbconvert_exporter": "python",
      "pygments_lexer": "ipython3",
      "version": "3.10.9"
    },
    "vscode": {
      "interpreter": {
        "hash": "04507afa2f9cf044c9eed37b12f9ede36e6669b5e4b06879af0b3930c0accf80"
      }
    }
  },
  "nbformat": 4,
  "nbformat_minor": 0
}